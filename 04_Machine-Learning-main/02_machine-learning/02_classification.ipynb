{
 "cells": [
  {
   "cell_type": "markdown",
   "metadata": {},
   "source": [
    "# 지도학습 분류 맛보기\n",
    "\n",
    "## 목표\n",
    "- 이진분류와 다중분류의 개념 이해\n",
    "- K-최근접 이웃(KNN) 알고리즘의 작동 원리 파악\n",
    "- 데이터 전처리와 정규화의 중요성 학습\n",
    "- 머신러닝 모델의 기본 파이프라인 이해"
   ]
  },
  {
   "cell_type": "code",
   "execution_count": null,
   "metadata": {},
   "outputs": [],
   "source": [
    "import numpy as np          \n",
    "import pandas as pd         \n",
    "import matplotlib.pyplot as plt "
   ]
  },
  {
   "cell_type": "code",
   "execution_count": null,
   "metadata": {},
   "outputs": [],
   "source": [
    "# 한글 폰트 설정 (matplotlib에서 한글이 깨지지 않도록)\n",
    "import matplotlib.font_manager as fm  # 폰트 관리 모듈\n",
    "import matplotlib\n",
    "\n",
    "# Windows 시스템의 한글 폰트 경로 설정\n",
    "font_path = 'C:\\\\Windows\\\\Fonts\\\\H2HDRM.TTF'  # 한글 폰트 파일 경로\n",
    "font = fm.FontProperties(fname=font_path).get_name()  # 폰트 이름 추출\n",
    "matplotlib.rc('font', family=font)  # matplotlib 기본 폰트를 한글 폰트로 설정"
   ]
  },
  {
   "cell_type": "markdown",
   "metadata": {},
   "source": [
    "### 생선 이진분류 - 도미(bream) or 빙어(smelt)\n",
    "\n",
    "**이진분류란?**\n",
    "- 두 개의 클래스 중 하나를 선택하는 분류 문제\n",
    "- 0과 1로 구분하여 표현\n",
    "- 도미인가? (1), 도미가 아닌가? (0)\n",
    "\n",
    "**데이터 설명:**\n",
    "- **특성(Feature)**: 길이(length), 무게(weight) - 2차원 입력 데이터\n",
    "- **라벨(Label)**: 도미(1) 또는 빙어(0) - 정답 데이터\n",
    "- **목표**: 새로운 생선의 길이와 무게를 보고 도미인지 빙어인지 예측"
   ]
  },
  {
   "cell_type": "code",
   "execution_count": null,
   "metadata": {},
   "outputs": [],
   "source": [
    "# 도미 데이터 준비\n",
    "# 도미의 길이 데이터 (cm 단위) - 35개의 샘플\n",
    "bream_length = [25.4, 26.3, 26.5, 29.0, 29.0, 29.7, 29.7, 30.0, 30.0, 30.7, 31.0, 31.0, 31.5, 32.0, 32.0, 32.0, 33.0, 33.0, 33.5, 33.5, 34.0, 34.0, 34.5, 35.0, 35.0, 35.0, 35.0, 36.0, 36.0, 37.0, 38.5, 38.5, 39.5, 41.0, 41.0]\n",
    "\n",
    "# 도미의 무게 데이터 (g 단위) - 35개의 샘플\n",
    "bream_weight = [242.0, 290.0, 340.0, 363.0, 430.0, 450.0, 500.0, 390.0, 450.0, 500.0, 475.0, 500.0, 500.0, 340.0, 600.0, 600.0, 700.0, 700.0, 610.0, 650.0, 575.0, 685.0, 620.0, 680.0, 700.0, 725.0, 720.0, 714.0, 850.0, 1000.0, 920.0, 955.0, 925.0, 975.0, 950.0]\n",
    "\n",
    "# 데이터 개수 확인 (길이와 무게 데이터의 개수가 일치하는지 확인)\n",
    "len(bream_length), len(bream_weight)  # (35, 35) - 35개의 도미 데이터"
   ]
  },
  {
   "cell_type": "code",
   "execution_count": null,
   "metadata": {},
   "outputs": [],
   "source": [
    "# 빙어 데이터 준비\n",
    "# 빙어의 길이 데이터 (cm 단위) - 14개의 샘플\n",
    "smelt_length = [9.8, 10.5, 10.6, 11.0, 11.2, 11.3, 11.8, 11.8, 12.0, 12.2, 12.4, 13.0, 14.3, 15.0]\n",
    "\n",
    "# 빙어의 무게 데이터 (g 단위) - 14개의 샘플\n",
    "smelt_weight = [6.7, 7.5, 7.0, 9.7, 9.8, 8.7, 10.0, 9.9, 9.8, 12.2, 13.4, 12.2, 19.7, 19.9]\n",
    "\n",
    "# 데이터 개수 확인 (길이와 무게 데이터의 개수가 일치하는지 확인)\n",
    "len(smelt_length), len(smelt_weight)  # (14, 14) - 14개의 빙어 데이터"
   ]
  },
  {
   "cell_type": "code",
   "execution_count": null,
   "metadata": {},
   "outputs": [],
   "source": [
    "# 데이터 분포 확인 (산점도)\n",
    "\n",
    "\n"
   ]
  },
  {
   "cell_type": "markdown",
   "metadata": {},
   "source": [
    "##### 데이터 전처리 (Data Preprocessing)\n",
    "\n",
    "**머신러닝 모델이 원하는 형태로 데이터를 가공하는 과정**\n",
    "\n",
    "**입력 데이터 (특성, Feature):**\n",
    "- 형태: [길이, 무게] 2차원 배열 (샘플 수 × 특성 수)\n",
    "- 예시: [[25.4, 242.0], [26.3, 290.0], ...]\n",
    "\n",
    "**출력 데이터 (라벨, Label):**\n",
    "- 형태: 도미 or 빙어 → 1, 0으로 구성된 1차원 배열\n",
    "- 예시: [1, 1, 1, ..., 0, 0, 0, ...] (도미=1, 빙어=0)\n",
    "\n",
    "**전처리의 중요성:**\n",
    "- 머신러닝 알고리즘은 숫자 데이터만 처리 가능\n",
    "- 일관된 데이터 형태로 변환 필요\n",
    "- 데이터 품질 향상으로 모델 성능 개선"
   ]
  },
  {
   "cell_type": "code",
   "execution_count": null,
   "metadata": {},
   "outputs": [],
   "source": []
  },
  {
   "cell_type": "code",
   "execution_count": null,
   "metadata": {},
   "outputs": [],
   "source": []
  },
  {
   "cell_type": "code",
   "execution_count": null,
   "metadata": {},
   "outputs": [],
   "source": []
  },
  {
   "cell_type": "markdown",
   "metadata": {},
   "source": [
    "##### K-최근접 이웃 분류 모델 (K-Nearest Neighbors Classifier)\n",
    "\n",
    "**KNN 알고리즘의 작동 원리:**\n",
    "1. 새로운 데이터 포인트가 주어지면\n",
    "2. 기존 훈련 데이터 중에서 가장 가까운 k개의 이웃을 찾음\n",
    "3. 이웃들의 클래스를 확인하여 다수결로 예측\n",
    "4. 거리 측정: 유클리드 거리 사용\n",
    "\n",
    "**장점:**\n",
    "- 간단하고 직관적인 알고리즘\n",
    "- 훈련 과정이 빠름 (데이터를 단순히 저장)\n",
    "- 비선형 패턴도 잘 처리\n",
    "\n",
    "**단점:**\n",
    "- 예측 시 모든 훈련 데이터와의 거리 계산 필요\n",
    "- 메모리 사용량이 많음\n",
    "- 차원의 저주 문제"
   ]
  },
  {
   "cell_type": "code",
   "execution_count": null,
   "metadata": {},
   "outputs": [],
   "source": [
    "# K-최근접 이웃 분류기 import\n",
    "from sklearn.neighbors import KNeighborsClassifier "
   ]
  },
  {
   "cell_type": "code",
   "execution_count": null,
   "metadata": {},
   "outputs": [],
   "source": []
  },
  {
   "cell_type": "markdown",
   "metadata": {},
   "source": [
    "- distances : 모델 데이터포인트와의 거리 (유클리드 거리 측정 방식)\n",
    "- index : 모델 데이터포인트의 인덱스"
   ]
  },
  {
   "cell_type": "code",
   "execution_count": null,
   "metadata": {},
   "outputs": [],
   "source": []
  },
  {
   "cell_type": "code",
   "execution_count": null,
   "metadata": {},
   "outputs": [],
   "source": []
  },
  {
   "cell_type": "code",
   "execution_count": null,
   "metadata": {},
   "outputs": [],
   "source": []
  },
  {
   "cell_type": "code",
   "execution_count": null,
   "metadata": {},
   "outputs": [],
   "source": [
    "# k 개수 변경\n",
    "kn49 = KNeighborsClassifier(n_neighbors=49)\n",
    "\n",
    "kn49.fit(train_input, train_label)\n",
    "kn49.score(train_input, train_label)"
   ]
  },
  {
   "cell_type": "markdown",
   "metadata": {},
   "source": [
    "##### 훈련데이터-테스트(평가)데이터 분리"
   ]
  },
  {
   "cell_type": "code",
   "execution_count": null,
   "metadata": {},
   "outputs": [],
   "source": []
  },
  {
   "cell_type": "code",
   "execution_count": null,
   "metadata": {},
   "outputs": [],
   "source": []
  },
  {
   "cell_type": "code",
   "execution_count": null,
   "metadata": {},
   "outputs": [],
   "source": []
  },
  {
   "cell_type": "code",
   "execution_count": null,
   "metadata": {},
   "outputs": [],
   "source": []
  },
  {
   "cell_type": "code",
   "execution_count": null,
   "metadata": {},
   "outputs": [],
   "source": []
  },
  {
   "cell_type": "markdown",
   "metadata": {},
   "source": [
    "##### 정규화\n",
    "- 데이터포인트의 값의 범위를 재정의하는 것\n",
    "    - StandardScaler\n",
    "    - MinMaxScaler"
   ]
  },
  {
   "cell_type": "code",
   "execution_count": null,
   "metadata": {},
   "outputs": [],
   "source": []
  },
  {
   "cell_type": "code",
   "execution_count": null,
   "metadata": {},
   "outputs": [],
   "source": []
  },
  {
   "cell_type": "code",
   "execution_count": null,
   "metadata": {},
   "outputs": [],
   "source": []
  },
  {
   "cell_type": "markdown",
   "metadata": {},
   "source": [
    "##### 표준 점수 (Z-Score)\n",
    "- 평균에서 얼마나 떨어져 있는지를 표준편차 단위로 계산한 값\n",
    "$$\n",
    "    표준 점수 = \\frac{데이터포인트 - 평균}{표준편차}\n",
    "$$"
   ]
  },
  {
   "cell_type": "code",
   "execution_count": null,
   "metadata": {},
   "outputs": [],
   "source": []
  },
  {
   "cell_type": "code",
   "execution_count": null,
   "metadata": {},
   "outputs": [],
   "source": []
  },
  {
   "cell_type": "code",
   "execution_count": null,
   "metadata": {},
   "outputs": [],
   "source": []
  },
  {
   "cell_type": "code",
   "execution_count": null,
   "metadata": {},
   "outputs": [],
   "source": []
  },
  {
   "cell_type": "code",
   "execution_count": null,
   "metadata": {},
   "outputs": [],
   "source": []
  },
  {
   "cell_type": "code",
   "execution_count": null,
   "metadata": {},
   "outputs": [],
   "source": []
  },
  {
   "cell_type": "code",
   "execution_count": null,
   "metadata": {},
   "outputs": [],
   "source": []
  },
  {
   "cell_type": "markdown",
   "metadata": {},
   "source": [
    "**StandardScaler란?** \n",
    "- **StandardScaler**는 데이터의 각 특성(feature)을 평균이 0, 표준편차가 1이 되도록 변환(표준화, Standardization)하는 전처리 도구입니다.\n",
    "- 데이터의 분포를 표준정규분포(평균 0, 표준편차 1)로 맞춰줌으로써, <br>\n",
    "     모든 특성이 동일한 스케일을 가지게 합니다.\n",
    "\n",
    "\n",
    "\n",
    "### 2. 표준화(standardization) 공식\n",
    "\n",
    "$$\n",
    "z = \\frac{x - \\mu}{\\sigma}\n",
    "$$\n",
    "\n",
    "- $x$ : 원래 데이터 값\n",
    "- $\\mu$ : 특성(feature)의 평균\n",
    "- $\\sigma$ : 특성(feature)의 표준편차\n",
    "\n",
    "---\n",
    "\n",
    "### 3. 효과\n",
    "\n",
    "- 표준화를 거치면, 특성의 단위와 값의 크기가 달라도 <br>\n",
    "동일한 기준에서 모델을 학습시킬 수 있어 알고리즘의 성능이 좋아질 수 있습니다."
   ]
  },
  {
   "cell_type": "code",
   "execution_count": null,
   "metadata": {},
   "outputs": [],
   "source": [
    "# StandardScaler\n",
    "# 특히 거리 기반 모델(KNN, SVM), 로지스틱 회귀, 신경망 등은\n",
    "# 데이터의 스케일 차이에 민감하기 때문에 표준화가 필수입니다.\n",
    "from sklearn.preprocessing import StandardScaler\n",
    "std_scaler = StandardScaler()\n",
    "train_scaled = std_scaler.fit_transform(train_input)\n",
    "train_scaled"
   ]
  },
  {
   "cell_type": "markdown",
   "metadata": {},
   "source": [
    "---"
   ]
  },
  {
   "cell_type": "markdown",
   "metadata": {},
   "source": [
    "### 생선 다중분류\n",
    "**다중분류(Multi-class Classification) 는** \n",
    "- 입력 데이터가 여러 개의 클래스(범주) 중 하나의 클래스에 속하도록 예측하는 문제\n",
    "<br>\n",
    "\n",
    "> 💡 즉, “A냐 B냐”처럼 2가지가 아닌\n",
    "> - “A, B, C, … 중 하나”를 예측하는 문제입니다."
   ]
  },
  {
   "cell_type": "code",
   "execution_count": null,
   "metadata": {},
   "outputs": [],
   "source": [
    "# 생선 데이터 로딩\n",
    "# CSV 파일에서 생선 데이터를 읽어와서 DataFrame으로 변환\n",
    "# 이 데이터에는 여러 종류의 생선 정보가 들어있음\n",
    "df = pd.read_csv('./data/fish.csv')\n",
    "df"
   ]
  },
  {
   "cell_type": "code",
   "execution_count": null,
   "metadata": {},
   "outputs": [],
   "source": []
  },
  {
   "cell_type": "code",
   "execution_count": null,
   "metadata": {},
   "outputs": [],
   "source": []
  },
  {
   "cell_type": "code",
   "execution_count": null,
   "metadata": {},
   "outputs": [],
   "source": []
  },
  {
   "cell_type": "code",
   "execution_count": null,
   "metadata": {},
   "outputs": [],
   "source": []
  },
  {
   "cell_type": "code",
   "execution_count": null,
   "metadata": {},
   "outputs": [],
   "source": []
  },
  {
   "cell_type": "markdown",
   "metadata": {},
   "source": [
    "##### 데이터 전처리\n",
    "- 훈련 데이터의 규격 : input + label (numpy ndarray)\n",
    "- 훈련 데이터/테스트(평가) 데이터 분리\n",
    "- 정규화 (컬럼값 사이의 차이를 완화)"
   ]
  },
  {
   "cell_type": "code",
   "execution_count": null,
   "metadata": {},
   "outputs": [],
   "source": []
  },
  {
   "cell_type": "code",
   "execution_count": null,
   "metadata": {},
   "outputs": [],
   "source": []
  },
  {
   "cell_type": "code",
   "execution_count": null,
   "metadata": {},
   "outputs": [],
   "source": []
  },
  {
   "cell_type": "markdown",
   "metadata": {},
   "source": [
    "##### 훈련"
   ]
  },
  {
   "cell_type": "code",
   "execution_count": null,
   "metadata": {},
   "outputs": [],
   "source": []
  },
  {
   "cell_type": "code",
   "execution_count": null,
   "metadata": {},
   "outputs": [],
   "source": []
  },
  {
   "cell_type": "code",
   "execution_count": null,
   "metadata": {},
   "outputs": [],
   "source": []
  },
  {
   "cell_type": "markdown",
   "metadata": {},
   "source": [
    "##### 평가"
   ]
  },
  {
   "cell_type": "code",
   "execution_count": null,
   "metadata": {},
   "outputs": [],
   "source": []
  },
  {
   "cell_type": "markdown",
   "metadata": {},
   "source": [
    "##### 다중분류 작동 방식\n",
    "- 다중분류 클래스 값의 크기와 같은 배열 형태로 결과를 도출"
   ]
  },
  {
   "cell_type": "code",
   "execution_count": null,
   "metadata": {},
   "outputs": [],
   "source": []
  },
  {
   "cell_type": "code",
   "execution_count": null,
   "metadata": {},
   "outputs": [],
   "source": []
  },
  {
   "cell_type": "code",
   "execution_count": null,
   "metadata": {},
   "outputs": [],
   "source": []
  },
  {
   "cell_type": "code",
   "execution_count": null,
   "metadata": {},
   "outputs": [],
   "source": []
  },
  {
   "cell_type": "code",
   "execution_count": null,
   "metadata": {},
   "outputs": [],
   "source": []
  }
 ],
 "metadata": {
  "kernelspec": {
   "display_name": "bear",
   "language": "python",
   "name": "python3"
  },
  "language_info": {
   "codemirror_mode": {
    "name": "ipython",
    "version": 3
   },
   "file_extension": ".py",
   "mimetype": "text/x-python",
   "name": "python",
   "nbconvert_exporter": "python",
   "pygments_lexer": "ipython3",
   "version": "3.12.11"
  }
 },
 "nbformat": 4,
 "nbformat_minor": 2
}
