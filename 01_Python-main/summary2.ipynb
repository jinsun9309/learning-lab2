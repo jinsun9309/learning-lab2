{
 "cells": [
  {
   "cell_type": "markdown",
   "id": "0c992f54",
   "metadata": {},
   "source": [
    "##조건문\n",
    "if [조건식]:\n",
    "    [실행할 코드]\n",
    "elif [조건식]:\n",
    "    [첫번째 조건식이 FALSE일때 실행 될 조건식]\n",
    "else :\n",
    "    [조건들에서 전부 FALSE가 나왔을때 실행될 코드]  \n",
    "\n",
    "    \n",
    "  "
   ]
  },
  {
   "cell_type": "code",
   "execution_count": 1,
   "id": "f1dc74bc",
   "metadata": {},
   "outputs": [
    {
     "name": "stdout",
     "output_type": "stream",
     "text": [
      "잘하셨습니다.\n"
     ]
    }
   ],
   "source": [
    "score = 1500000\n",
    "\n",
    "if score > 85:\n",
    "    print(\"잘하셨습니다.\")\n",
    "elif score > 80:\n",
    "    print(\"적당히잘하셨습니다\")\n",
    "else:\n",
    "    print(\"못하셨습니다\")"
   ]
  },
  {
   "cell_type": "code",
   "execution_count": 2,
   "id": "4733b5f2",
   "metadata": {},
   "outputs": [
    {
     "ename": "SyntaxError",
     "evalue": "invalid syntax (1048728519.py, line 10)",
     "output_type": "error",
     "traceback": [
      "  \u001b[36mCell\u001b[39m\u001b[36m \u001b[39m\u001b[32mIn[2]\u001b[39m\u001b[32m, line 10\u001b[39m\n\u001b[31m    \u001b[39m\u001b[31mcase_:\u001b[39m\n    ^\n\u001b[31mSyntaxError\u001b[39m\u001b[31m:\u001b[39m invalid syntax\n"
     ]
    }
   ],
   "source": [
    "day = '목요일'\n",
    "\n",
    "match day:\n",
    "    case '월요일':\n",
    "        print('월요일입니다!')\n",
    "    case '화요일':\n",
    "        print('화요일입니다!')\n",
    "    case '수요일':\n",
    "        print('수요일입니다')\n",
    "    case_:\n",
    "        print('그냥그런 날입니다')"
   ]
  },
  {
   "cell_type": "code",
   "execution_count": null,
   "id": "76a17467",
   "metadata": {},
   "outputs": [
    {
     "name": "stdout",
     "output_type": "stream",
     "text": [
      "num은 0입니다.\n"
     ]
    }
   ],
   "source": [
    "list = [1,2,3,4,5]\n",
    "for num in range(1):\n",
    "    print(f\"num은 {num}입니다.\")\n"
   ]
  },
  {
   "cell_type": "code",
   "execution_count": null,
   "id": "ed114f00",
   "metadata": {},
   "outputs": [
    {
     "name": "stdout",
     "output_type": "stream",
     "text": [
      "카운트 : 0 \n",
      "카운트 : 1 \n",
      "카운트 : 2 \n"
     ]
    }
   ],
   "source": [
    "count = 0\n",
    "while count < 3:\n",
    "    print(f'카운트 : {count} ')\n",
    "    count += 1"
   ]
  },
  {
   "cell_type": "code",
   "execution_count": null,
   "id": "5a7920e1",
   "metadata": {},
   "outputs": [],
   "source": []
  }
 ],
 "metadata": {
  "kernelspec": {
   "display_name": "helloworld",
   "language": "python",
   "name": "python3"
  },
  "language_info": {
   "codemirror_mode": {
    "name": "ipython",
    "version": 3
   },
   "file_extension": ".py",
   "mimetype": "text/x-python",
   "name": "python",
   "nbconvert_exporter": "python",
   "pygments_lexer": "ipython3",
   "version": "3.12.12"
  }
 },
 "nbformat": 4,
 "nbformat_minor": 5
}
