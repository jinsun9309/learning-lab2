{
 "cells": [
  {
   "cell_type": "markdown",
   "id": "96da5c50",
   "metadata": {},
   "source": [
    "### 나만의 계산기\n",
    "1. while 문을 통해 무한반복\n",
    "2. 사용자의 입력으로 사용할 함수를 고를 것"
   ]
  },
  {
   "cell_type": "code",
   "execution_count": null,
   "id": "af3a4e45",
   "metadata": {},
   "outputs": [],
   "source": [
    "def add(a, b):\n",
    "    return a+b\n",
    "\n",
    "def subtract(a, b):\n",
    "    return a-b\n",
    "\n",
    "def multiply(a, b):\n",
    "    return a*b\n",
    "\n",
    "def divide(a, b):\n",
    "    if b == 0:\n",
    "        return \"0으로 나눌 수 없습니다.\"\n",
    "    return a/b\n",
    "\n",
    "def main():\n",
    "    while True:\n",
    "        print(\"\\n===== 계산기 메뉴 =====\")\n",
    "        print(\"1. 더하기 (a + b)\")\n",
    "        print(\"2. 빼기 (a - b)\")\n",
    "        print(\"3. 곱하기 (a * b)\")\n",
    "        print(\"4. 나누기 (a / b)\")\n",
    "        print(\"5. 종료\")\n",
    "        choice = input(\"사용할 기능의 번호를 입력하세요: \")\n",
    "\n",
    "        if choice == '5':\n",
    "            print(\"프로그램을 종료합니다.\")\n",
    "            break\n",
    "\n",
    "        # 숫자 입력 받기\n",
    "        try:\n",
    "            a = float(input(\"첫 번째 숫자를 입력하세요: \"))\n",
    "            b = float(input(\"두 번째 숫자를 입력하세요: \"))\n",
    "        except ValueError:\n",
    "            print(\"유효하지 않은 입력입니다. 숫자를 입력해 주세요.\")\n",
    "            continue\n",
    "\n",
    "        if choice == '1':\n",
    "            result = add(a, b)\n",
    "            print(f\"결과: {a} + {b} = {result}\")\n",
    "        elif choice == '2':\n",
    "            result = subtract(a, b)\n",
    "            print(f\"결과: {a} - {b} = {result}\")\n",
    "        elif choice == '3':\n",
    "            result = multiply(a, b)\n",
    "            print(f\"결과: {a} * {b} = {result}\")\n",
    "        elif choice == '4':\n",
    "            result = divide(a, b)\n",
    "            print(f\"결과: {a} / {b} = {result}\")\n",
    "        else:\n",
    "            print(\"올바른 번호를 선택해 주세요.\")\n",
    "\n",
    "if __name__ == \"__main__\":\n",
    "    main()"
   ]
  }
 ],
 "metadata": {
  "kernelspec": {
   "display_name": "helloworld",
   "language": "python",
   "name": "python3"
  },
  "language_info": {
   "codemirror_mode": {
    "name": "ipython",
    "version": 3
   },
   "file_extension": ".py",
   "mimetype": "text/x-python",
   "name": "python",
   "nbconvert_exporter": "python",
   "pygments_lexer": "ipython3",
   "version": "3.12.12"
  }
 },
 "nbformat": 4,
 "nbformat_minor": 5
}
