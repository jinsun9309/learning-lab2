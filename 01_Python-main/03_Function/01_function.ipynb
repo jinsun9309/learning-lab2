{
 "cells": [
  {
   "cell_type": "markdown",
   "metadata": {},
   "source": [
    "# 01. 함수\n",
    "---\n",
    "\n",
    "## 함수 개요\n",
    "\n",
    "### 함수란?\n",
    "* 특정 기능을 하기 위한 코드의 집합을 의미한다.\n",
    "* 함수를 정의해놓으면 해당 기능이 필요한 위치에서 함수를 호출하여 간편하게 사용 가능하다.\n",
    "\n",
    "### 함수 표현식\n",
    "* def 키워드를 사용하여 함수를 정의한다.(define)\n",
    "* 함수 이름 뒤에 소괄호와 콜론을 작성하며 함수에서 실행할 내용은 **\"반드시\"** 들여쓰기한다.\n",
    "\n",
    "```python\n",
    "def basic_function():\n",
    "    print(\"Hello world\")\n",
    "    \n",
    "\n",
    "basic_function()\n",
    "```"
   ]
  },
  {
   "cell_type": "code",
   "execution_count": null,
   "metadata": {},
   "outputs": [],
   "source": [
    "\n",
    "print(\"안녕하세요\")\n",
    "print(\"5 + 10 계산을 하겠습니다.\")\n",
    "print(5 + 10)\n",
    "\n",
    "print(\"안녕하세요\")\n",
    "print(\"5 + 10 계산을 하겠습니다.\")\n",
    "print(5 + 10)\n",
    "\n",
    "print(\"안녕하세요\")\n",
    "print(\"5 + 10 계산을 하겠습니다.\")\n",
    "print(5 + 10)\n"
   ]
  },
  {
   "cell_type": "code",
   "execution_count": 2,
   "metadata": {},
   "outputs": [
    {
     "name": "stdout",
     "output_type": "stream",
     "text": [
      "안녕하세요\n",
      "5 + 10 계산을 하겠습니다.\n",
      "15\n",
      "안녕하세요\n",
      "5 + 10 계산을 하겠습니다.\n",
      "15\n",
      "안녕하세요\n",
      "5 + 10 계산을 하겠습니다.\n",
      "15\n"
     ]
    }
   ],
   "source": [
    "def function():\n",
    "    print(\"안녕하세요\")\n",
    "    print(\"5 + 10 계산을 하겠습니다.\")\n",
    "    print(5 + 10)\n",
    "\n",
    "function()\n",
    "function()\n",
    "function()\n"
   ]
  },
  {
   "cell_type": "markdown",
   "metadata": {},
   "source": [
    "## 매개변수\n",
    "### 매개변수(파라미터)\n",
    "* 함수 생성시 함수명 옆에 붙이는 소괄호 안에 매개변수로 전달받을 값의 변수명을 넣을 수 있다."
   ]
  },
  {
   "cell_type": "code",
   "execution_count": 4,
   "metadata": {},
   "outputs": [],
   "source": [
    "def cal_sum(x, y):\n",
    "    print(\"안녕하세요\")\n",
    "    print(f\"{x} + {y} 계산을 하겠습니다.\")\n",
    "    print(x + y)"
   ]
  },
  {
   "cell_type": "markdown",
   "metadata": {},
   "source": [
    "* 함수를 정의할때 매개변수의 기본값을 지정 할 수 있다.\n",
    "    * 함수 호출시 인자를 보내지 않으면 함수 선언부에서 미리 지정한 기본값을 사용하여 함수를 실행한다."
   ]
  },
  {
   "cell_type": "code",
   "execution_count": 8,
   "metadata": {},
   "outputs": [
    {
     "name": "stdout",
     "output_type": "stream",
     "text": [
      "안녕하세요\n",
      "10 + 30 계산을 하겠습니다.\n",
      "40\n"
     ]
    }
   ],
   "source": [
    "def cal_sum(x=1, y=1):\n",
    "    print(\"안녕하세요\")\n",
    "    print(f\"{x} + {y} 계산을 하겠습니다.\")\n",
    "    print(x + y)\n",
    "\n",
    "cal_sum(10,30)"
   ]
  },
  {
   "cell_type": "markdown",
   "metadata": {},
   "source": [
    "### 인자\n",
    "* 함수 호출 시 함수명에 소괄호를 붙여 호출하며, 이때 소괄호 안에 전달하는 값은 인자라고 한다.\n",
    "<br>\n",
    "### 함수 인자를 보내는 방식은 2가지\n",
    "1. 위치 인자 : 위치로 매칭하는 방법\n",
    "2. 키워드 인자 : 매개변수 이름으로 매칭하는 방법\n",
    "\n",
    "* 이때 위치인자를 먼저 사용하면 뒤에 키워드인자를 사용 할 수 있다.\n",
    "* 단, 위치 인자와 키워드 인자를 함께 사용할 때, 키워드인자를 먼저 사용하는 것은 불가능"
   ]
  },
  {
   "cell_type": "code",
   "execution_count": 9,
   "metadata": {},
   "outputs": [],
   "source": [
    "def cal_sum(x=1, y=1):\n",
    "    print(\"안녕하세요\")\n",
    "    print(f\"{x} + {y} 계산을 하겠습니다.\")\n",
    "    print(x + y)\n",
    "\n"
   ]
  },
  {
   "cell_type": "code",
   "execution_count": 10,
   "metadata": {},
   "outputs": [
    {
     "name": "stdout",
     "output_type": "stream",
     "text": [
      "안녕하세요\n",
      "10 + 30 계산을 하겠습니다.\n",
      "40\n",
      "안녕하세요\n",
      "30 + 10 계산을 하겠습니다.\n",
      "40\n"
     ]
    }
   ],
   "source": [
    "cal_sum(10,30)\n",
    "cal_sum(30,10)"
   ]
  },
  {
   "cell_type": "code",
   "execution_count": 11,
   "metadata": {},
   "outputs": [
    {
     "name": "stdout",
     "output_type": "stream",
     "text": [
      "안녕하세요\n",
      "3 + 5 계산을 하겠습니다.\n",
      "8\n"
     ]
    }
   ],
   "source": [
    "#키워드 인자\n",
    "cal_sum(x=3, y=5)"
   ]
  },
  {
   "cell_type": "markdown",
   "metadata": {},
   "source": [
    "## 반환값\n",
    "### return\n",
    "* 함수 블럭 내부에서 return 키워드를 만나면 함수의 작동이 중단된다.\n",
    "* return 뒤에 변수 또는 값이 오면 해당 값을 함수 호출 위치에 반환하며 중단된다."
   ]
  },
  {
   "cell_type": "code",
   "execution_count": 12,
   "metadata": {},
   "outputs": [],
   "source": [
    "def cal_sum(x=1, y=1):\n",
    "    result = x+y\n",
    "    return result"
   ]
  },
  {
   "cell_type": "markdown",
   "metadata": {},
   "source": [
    "* return값을 여러개로 전달 할 수 있다. (튜플사용)\n"
   ]
  },
  {
   "cell_type": "code",
   "execution_count": 13,
   "metadata": {},
   "outputs": [
    {
     "name": "stdout",
     "output_type": "stream",
     "text": [
      "12\n"
     ]
    }
   ],
   "source": [
    "print(cal_sum(4,8))"
   ]
  },
  {
   "cell_type": "code",
   "execution_count": null,
   "metadata": {},
   "outputs": [],
   "source": [
    "def cal(x = 1, y = 1):\n",
    "    return (x+y, x-y, x*y)"
   ]
  },
  {
   "cell_type": "code",
   "execution_count": null,
   "metadata": {},
   "outputs": [],
   "source": [
    "print(cal_sum(4,8))"
   ]
  },
  {
   "cell_type": "markdown",
   "metadata": {},
   "source": [
    "## 패키징과 언패키징\n",
    "### 패키징\n",
    "* 위치인자가 많을때 매개변수에 *을 붙여서 하나의 객체로 처리 할 수 있다."
   ]
  },
  {
   "cell_type": "code",
   "execution_count": 21,
   "metadata": {},
   "outputs": [],
   "source": [
    "def cal_sum(*args):\n",
    "    result = 0\n",
    "    for i in args:\n",
    "        result = result + i\n",
    "    return result"
   ]
  },
  {
   "cell_type": "code",
   "execution_count": 22,
   "metadata": {},
   "outputs": [
    {
     "data": {
      "text/plain": [
       "5"
      ]
     },
     "execution_count": 22,
     "metadata": {},
     "output_type": "execute_result"
    }
   ],
   "source": [
    "cal_sum(1,2,3,4,5,6)\n",
    "cal_sum(1,4)"
   ]
  },
  {
   "cell_type": "markdown",
   "metadata": {},
   "source": [
    "* 키워드 인자인 경우 **을 붙여서 하나의 딕셔너리로 처리할 수 있다."
   ]
  },
  {
   "cell_type": "code",
   "execution_count": null,
   "metadata": {},
   "outputs": [],
   "source": [
    "\n"
   ]
  },
  {
   "cell_type": "code",
   "execution_count": null,
   "metadata": {},
   "outputs": [],
   "source": []
  },
  {
   "cell_type": "code",
   "execution_count": null,
   "metadata": {},
   "outputs": [],
   "source": []
  },
  {
   "cell_type": "markdown",
   "metadata": {},
   "source": [
    "### 언패키징\n",
    "* 패키징과 반대되는 개념으로 여러개의 객체를 포함하는 하나의 객체를 풀어준다."
   ]
  },
  {
   "cell_type": "code",
   "execution_count": 23,
   "metadata": {},
   "outputs": [],
   "source": [
    "def cal_sum(a,b,c):\n",
    "    return a+b+c"
   ]
  },
  {
   "cell_type": "code",
   "execution_count": 25,
   "metadata": {},
   "outputs": [
    {
     "data": {
      "text/plain": [
       "9"
      ]
     },
     "execution_count": 25,
     "metadata": {},
     "output_type": "execute_result"
    }
   ],
   "source": [
    "numbers = [1,3,5]\n",
    "cal_sum(*numbers)\n",
    "cal_sum(1,3,5)"
   ]
  },
  {
   "cell_type": "markdown",
   "metadata": {},
   "source": [
    "### 삼항연산자"
   ]
  },
  {
   "cell_type": "code",
   "execution_count": 27,
   "metadata": {},
   "outputs": [
    {
     "data": {
      "text/plain": [
       "'b가 10보다 작다'"
      ]
     },
     "execution_count": 27,
     "metadata": {},
     "output_type": "execute_result"
    }
   ],
   "source": [
    "def func(a):\n",
    "    if a >10:\n",
    "        return \"a가 10보다 크다\"\n",
    "    else:\n",
    "        return \"a가 10보다 크지 않다\"\n",
    "    \n",
    "def funcb(b):\n",
    "    return 'b가 10보다 크다' if b>10 else 'b가 10보다 작다'\n",
    "\n",
    "func(10)\n",
    "funcb(10)\n"
   ]
  }
 ],
 "metadata": {
  "kernelspec": {
   "display_name": "helloworld",
   "language": "python",
   "name": "python3"
  },
  "language_info": {
   "codemirror_mode": {
    "name": "ipython",
    "version": 3
   },
   "file_extension": ".py",
   "mimetype": "text/x-python",
   "name": "python",
   "nbconvert_exporter": "python",
   "pygments_lexer": "ipython3",
   "version": "3.12.12"
  }
 },
 "nbformat": 4,
 "nbformat_minor": 2
}
