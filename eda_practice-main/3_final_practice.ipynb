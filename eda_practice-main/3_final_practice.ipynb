{
 "cells": [
  {
   "cell_type": "markdown",
   "metadata": {},
   "source": [
    "### 최종 실습 프로젝트\n",
    "- ecommerce_sales_data.csv 파일 활용"
   ]
  },
  {
   "cell_type": "markdown",
   "metadata": {},
   "source": [
    "당신은 유능한 쇼핑몰 데이터 분석가입니다.\n",
    "당신은 한 온라인 쇼핑몰의 데이터 분석가로 고용되었다. 쇼핑몰의 판매 데이터를 분석하여 고객의 구매 패턴을 파악하고, 중요한 인사이트를 도출하는 것이 이번 프로젝트의 목표다. 이를 통해 향후 마케팅 전략을 제시하고자 한다. ecommerce_sales_data.csv 파일을 통해 주어진 데이터는 고객의 주문 기록, 상품 정보, 판매 데이터 등을 포함하고 있다. \n",
    "각 컬럼은 [데이터 설명]과 같다. \n",
    "주어진 데이터를 분석하여 아래의 질문에 답하라.\n",
    "\n",
    "\n",
    "[데이터 설명]:\n",
    "    - **OrderID**: 주문 ID\n",
    "    - **Product**: 주문한 상품 이름\n",
    "    - **Category**: 상품의 카테고리 (예: Electronics, Clothing 등)\n",
    "    - **Quantity**: 주문 수량\n",
    "    - **Price**: 상품의 가격\n",
    "    - **CustomerID**: 고객 ID\n",
    "    - **BirthDate**: 고객 생일\n",
    "    - **OrderDate**: 주문 날짜\n",
    "    - **Country**: 주문한 고객의 국가\n",
    "    - **DiscountRate**: 할인율\n",
    "\n",
    "[조건]\n",
    "1. 코드를 제공할 때 쉽고 이해하기 쉽게 주석을 제공할 것\n",
    "2. 코드는 초보자도 이해하기 쉽게 간결한 스타일로 작성할 것\n",
    "3. 한번에 복사 및 붙여넣기 하기 쉽게 마지막에 정리를 추가할 것\n",
    "4. 코드는 한줄에 전부 쓰지말고, 가독성 좋게 작성할 것\n",
    "5. 쥬피터 컴퓨터임\n",
    "6. 시각화를 요청한다면, 라벨이나 설명을 한글로 작성할 것 \n",
    "\n"
   ]
  },
  {
   "cell_type": "markdown",
   "metadata": {},
   "source": [
    "- **데이터 설명**:\n",
    "    - **OrderID**: 주문 ID\n",
    "    - **Product**: 주문한 상품 이름\n",
    "    - **Category**: 상품의 카테고리 (예: Electronics, Clothing 등)\n",
    "    - **Quantity**: 주문 수량\n",
    "    - **Price**: 상품의 가격\n",
    "    - **CustomerID**: 고객 ID\n",
    "    - **BirthDate**: 고객 생일\n",
    "    - **OrderDate**: 주문 날짜\n",
    "    - **Country**: 주문한 고객의 국가\n",
    "    - **DiscountRate**: 할인율"
   ]
  },
  {
   "cell_type": "markdown",
   "metadata": {},
   "source": [
    "1. **데이터 탐색 및 전처리**\n",
    "    1. 데이터셋을 로드하고 상위 5개의 데이터를 출력하세요.\n",
    "    2. 결측값이 있는 열이 있는지 확인하고, 결측값이 있는 경우 적절한 방법으로 처리하세요.\n",
    "    3. 각 열의 데이터 타입을 확인하고, **OrderDate** 열을 datetime 형식으로 변환하세요."
   ]
  },
  {
   "cell_type": "code",
   "execution_count": 4,
   "metadata": {},
   "outputs": [
    {
     "data": {
      "text/html": [
       "<div>\n",
       "<style scoped>\n",
       "    .dataframe tbody tr th:only-of-type {\n",
       "        vertical-align: middle;\n",
       "    }\n",
       "\n",
       "    .dataframe tbody tr th {\n",
       "        vertical-align: top;\n",
       "    }\n",
       "\n",
       "    .dataframe thead th {\n",
       "        text-align: right;\n",
       "    }\n",
       "</style>\n",
       "<table border=\"1\" class=\"dataframe\">\n",
       "  <thead>\n",
       "    <tr style=\"text-align: right;\">\n",
       "      <th></th>\n",
       "      <th>Product</th>\n",
       "      <th>Category</th>\n",
       "      <th>Quantity</th>\n",
       "      <th>Price</th>\n",
       "      <th>CustomerID</th>\n",
       "      <th>Birthdate</th>\n",
       "      <th>OrderDate</th>\n",
       "      <th>Country</th>\n",
       "      <th>DiscountRate</th>\n",
       "    </tr>\n",
       "    <tr>\n",
       "      <th>OrderID</th>\n",
       "      <th></th>\n",
       "      <th></th>\n",
       "      <th></th>\n",
       "      <th></th>\n",
       "      <th></th>\n",
       "      <th></th>\n",
       "      <th></th>\n",
       "      <th></th>\n",
       "      <th></th>\n",
       "    </tr>\n",
       "  </thead>\n",
       "  <tbody>\n",
       "    <tr>\n",
       "      <th>1</th>\n",
       "      <td>역사책</td>\n",
       "      <td>Books</td>\n",
       "      <td>5</td>\n",
       "      <td>37000</td>\n",
       "      <td>1071</td>\n",
       "      <td>1980-08-08</td>\n",
       "      <td>2024-06-10 17:18</td>\n",
       "      <td>미국</td>\n",
       "      <td>0.14</td>\n",
       "    </tr>\n",
       "    <tr>\n",
       "      <th>2</th>\n",
       "      <td>셔츠</td>\n",
       "      <td>Clothing</td>\n",
       "      <td>5</td>\n",
       "      <td>20000</td>\n",
       "      <td>1526</td>\n",
       "      <td>1967-08-09</td>\n",
       "      <td>2023-11-18 18:45</td>\n",
       "      <td>독일</td>\n",
       "      <td>0.29</td>\n",
       "    </tr>\n",
       "    <tr>\n",
       "      <th>3</th>\n",
       "      <td>노트북</td>\n",
       "      <td>Electronics</td>\n",
       "      <td>4</td>\n",
       "      <td>8000</td>\n",
       "      <td>1252</td>\n",
       "      <td>1973-04-07</td>\n",
       "      <td>2023-10-15 11:19</td>\n",
       "      <td>중국</td>\n",
       "      <td>0.23</td>\n",
       "    </tr>\n",
       "    <tr>\n",
       "      <th>4</th>\n",
       "      <td>자전거</td>\n",
       "      <td>Sports</td>\n",
       "      <td>1</td>\n",
       "      <td>8000</td>\n",
       "      <td>1670</td>\n",
       "      <td>1970-04-08</td>\n",
       "      <td>2024-07-19 2:19</td>\n",
       "      <td>일본</td>\n",
       "      <td>0.20</td>\n",
       "    </tr>\n",
       "    <tr>\n",
       "      <th>5</th>\n",
       "      <td>헤드폰</td>\n",
       "      <td>Electronics</td>\n",
       "      <td>3</td>\n",
       "      <td>26000</td>\n",
       "      <td>1838</td>\n",
       "      <td>1992-05-19</td>\n",
       "      <td>2024-01-20 20:34</td>\n",
       "      <td>대한민국</td>\n",
       "      <td>0.09</td>\n",
       "    </tr>\n",
       "  </tbody>\n",
       "</table>\n",
       "</div>"
      ],
      "text/plain": [
       "        Product     Category  Quantity  Price  CustomerID   Birthdate  \\\n",
       "OrderID                                                                 \n",
       "1           역사책        Books         5  37000        1071  1980-08-08   \n",
       "2            셔츠     Clothing         5  20000        1526  1967-08-09   \n",
       "3           노트북  Electronics         4   8000        1252  1973-04-07   \n",
       "4           자전거       Sports         1   8000        1670  1970-04-08   \n",
       "5           헤드폰  Electronics         3  26000        1838  1992-05-19   \n",
       "\n",
       "                OrderDate Country  DiscountRate  \n",
       "OrderID                                          \n",
       "1        2024-06-10 17:18      미국          0.14  \n",
       "2        2023-11-18 18:45      독일          0.29  \n",
       "3        2023-10-15 11:19      중국          0.23  \n",
       "4         2024-07-19 2:19      일본          0.20  \n",
       "5        2024-01-20 20:34    대한민국          0.09  "
      ]
     },
     "execution_count": 4,
     "metadata": {},
     "output_type": "execute_result"
    }
   ],
   "source": [
    "import pandas as pd\n",
    "df = pd.read_csv('data/ecommerce_sales_data.csv', index_col='OrderID')\n",
    "df.head(5)"
   ]
  },
  {
   "cell_type": "code",
   "execution_count": 8,
   "metadata": {},
   "outputs": [
    {
     "data": {
      "text/html": [
       "<div>\n",
       "<style scoped>\n",
       "    .dataframe tbody tr th:only-of-type {\n",
       "        vertical-align: middle;\n",
       "    }\n",
       "\n",
       "    .dataframe tbody tr th {\n",
       "        vertical-align: top;\n",
       "    }\n",
       "\n",
       "    .dataframe thead th {\n",
       "        text-align: right;\n",
       "    }\n",
       "</style>\n",
       "<table border=\"1\" class=\"dataframe\">\n",
       "  <thead>\n",
       "    <tr style=\"text-align: right;\">\n",
       "      <th></th>\n",
       "      <th>Product</th>\n",
       "      <th>Category</th>\n",
       "      <th>Quantity</th>\n",
       "      <th>Price</th>\n",
       "      <th>CustomerID</th>\n",
       "      <th>Birthdate</th>\n",
       "      <th>OrderDate</th>\n",
       "      <th>Country</th>\n",
       "      <th>DiscountRate</th>\n",
       "    </tr>\n",
       "    <tr>\n",
       "      <th>OrderID</th>\n",
       "      <th></th>\n",
       "      <th></th>\n",
       "      <th></th>\n",
       "      <th></th>\n",
       "      <th></th>\n",
       "      <th></th>\n",
       "      <th></th>\n",
       "      <th></th>\n",
       "      <th></th>\n",
       "    </tr>\n",
       "  </thead>\n",
       "  <tbody>\n",
       "    <tr>\n",
       "      <th>1</th>\n",
       "      <td>역사책</td>\n",
       "      <td>Books</td>\n",
       "      <td>5</td>\n",
       "      <td>37000</td>\n",
       "      <td>1071</td>\n",
       "      <td>1980-08-08</td>\n",
       "      <td>2024-06-10 17:18</td>\n",
       "      <td>미국</td>\n",
       "      <td>0.14</td>\n",
       "    </tr>\n",
       "    <tr>\n",
       "      <th>2</th>\n",
       "      <td>셔츠</td>\n",
       "      <td>Clothing</td>\n",
       "      <td>5</td>\n",
       "      <td>20000</td>\n",
       "      <td>1526</td>\n",
       "      <td>1967-08-09</td>\n",
       "      <td>2023-11-18 18:45</td>\n",
       "      <td>독일</td>\n",
       "      <td>0.29</td>\n",
       "    </tr>\n",
       "    <tr>\n",
       "      <th>3</th>\n",
       "      <td>노트북</td>\n",
       "      <td>Electronics</td>\n",
       "      <td>4</td>\n",
       "      <td>8000</td>\n",
       "      <td>1252</td>\n",
       "      <td>1973-04-07</td>\n",
       "      <td>2023-10-15 11:19</td>\n",
       "      <td>중국</td>\n",
       "      <td>0.23</td>\n",
       "    </tr>\n",
       "    <tr>\n",
       "      <th>4</th>\n",
       "      <td>자전거</td>\n",
       "      <td>Sports</td>\n",
       "      <td>1</td>\n",
       "      <td>8000</td>\n",
       "      <td>1670</td>\n",
       "      <td>1970-04-08</td>\n",
       "      <td>2024-07-19 2:19</td>\n",
       "      <td>일본</td>\n",
       "      <td>0.20</td>\n",
       "    </tr>\n",
       "    <tr>\n",
       "      <th>5</th>\n",
       "      <td>헤드폰</td>\n",
       "      <td>Electronics</td>\n",
       "      <td>3</td>\n",
       "      <td>26000</td>\n",
       "      <td>1838</td>\n",
       "      <td>1992-05-19</td>\n",
       "      <td>2024-01-20 20:34</td>\n",
       "      <td>대한민국</td>\n",
       "      <td>0.09</td>\n",
       "    </tr>\n",
       "  </tbody>\n",
       "</table>\n",
       "</div>"
      ],
      "text/plain": [
       "        Product     Category  Quantity  Price  CustomerID   Birthdate  \\\n",
       "OrderID                                                                 \n",
       "1           역사책        Books         5  37000        1071  1980-08-08   \n",
       "2            셔츠     Clothing         5  20000        1526  1967-08-09   \n",
       "3           노트북  Electronics         4   8000        1252  1973-04-07   \n",
       "4           자전거       Sports         1   8000        1670  1970-04-08   \n",
       "5           헤드폰  Electronics         3  26000        1838  1992-05-19   \n",
       "\n",
       "                OrderDate Country  DiscountRate  \n",
       "OrderID                                          \n",
       "1        2024-06-10 17:18      미국          0.14  \n",
       "2        2023-11-18 18:45      독일          0.29  \n",
       "3        2023-10-15 11:19      중국          0.23  \n",
       "4         2024-07-19 2:19      일본          0.20  \n",
       "5        2024-01-20 20:34    대한민국          0.09  "
      ]
     },
     "execution_count": 8,
     "metadata": {},
     "output_type": "execute_result"
    }
   ],
   "source": [
    "missing = df.isnull().sum()\n",
    "missing[missing > 0]\n",
    "df_filled = df.fillna(df.mean(numeric_only=True))\n",
    "df_filled.head()\n"
   ]
  },
  {
   "cell_type": "code",
   "execution_count": 10,
   "metadata": {},
   "outputs": [
    {
     "name": "stdout",
     "output_type": "stream",
     "text": [
      "Product          object\n",
      "Category         object\n",
      "Quantity          int64\n",
      "Price             int64\n",
      "CustomerID        int64\n",
      "Birthdate        object\n",
      "OrderDate        object\n",
      "Country          object\n",
      "DiscountRate    float64\n",
      "dtype: object\n"
     ]
    }
   ],
   "source": [
    "print(df.dtypes)\n"
   ]
  },
  {
   "cell_type": "code",
   "execution_count": 12,
   "metadata": {},
   "outputs": [
    {
     "data": {
      "text/plain": [
       "OrderID\n",
       "1      2024-06-10 17:18\n",
       "2      2023-11-18 18:45\n",
       "3      2023-10-15 11:19\n",
       "4       2024-07-19 2:19\n",
       "5      2024-01-20 20:34\n",
       "             ...       \n",
       "116    2024-03-01 16:57\n",
       "117    2024-01-18 21:37\n",
       "118    2024-09-29 12:27\n",
       "119     2024-06-10 9:01\n",
       "120    2024-06-29 10:28\n",
       "Name: OrderDate, Length: 120, dtype: object"
      ]
     },
     "execution_count": 12,
     "metadata": {},
     "output_type": "execute_result"
    }
   ],
   "source": [
    "df['OrderDate']"
   ]
  },
  {
   "cell_type": "code",
   "execution_count": 13,
   "metadata": {},
   "outputs": [],
   "source": [
    "df['OrderDate'] = pd.to_datetime(df['OrderDate'])"
   ]
  },
  {
   "cell_type": "markdown",
   "metadata": {},
   "source": [
    "2. **매출 분석**\n",
    "    1. **매출액**(총 판매 금액)을 계산하는 새로운 열 `TotalRevenue`를 생성하세요.\n",
    "        - 매출액 = `Quantity` * `Price`\n",
    "    2. 월별 총 매출액을 집계하여 시각화하세요.\n",
    "        - 힌트: `resample()`을 사용하여 월별로 데이터를 집계하세요.\n",
    "    3. 카테고리별로 매출액이 가장 높은 상위 3개의 카테고리를 구하세요.\n",
    "    4. 국가별 총 매출액을 계산하고, 매출액이 가장 높은 5개 국가를 출력하세요."
   ]
  },
  {
   "cell_type": "code",
   "execution_count": 14,
   "metadata": {},
   "outputs": [],
   "source": [
    "df['TotalRevenue'] = df['Quantity'] * df['Price']"
   ]
  },
  {
   "cell_type": "code",
   "execution_count": 18,
   "metadata": {},
   "outputs": [
    {
     "ename": "KeyError",
     "evalue": "'OrderDate'",
     "output_type": "error",
     "traceback": [
      "\u001b[31m---------------------------------------------------------------------------\u001b[39m",
      "\u001b[31mKeyError\u001b[39m                                  Traceback (most recent call last)",
      "\u001b[36mFile \u001b[39m\u001b[32mc:\\ProgramData\\miniforge3\\envs\\helloworld\\Lib\\site-packages\\pandas\\core\\indexes\\base.py:3812\u001b[39m, in \u001b[36mIndex.get_loc\u001b[39m\u001b[34m(self, key)\u001b[39m\n\u001b[32m   3811\u001b[39m \u001b[38;5;28;01mtry\u001b[39;00m:\n\u001b[32m-> \u001b[39m\u001b[32m3812\u001b[39m     \u001b[38;5;28;01mreturn\u001b[39;00m \u001b[38;5;28;43mself\u001b[39;49m\u001b[43m.\u001b[49m\u001b[43m_engine\u001b[49m\u001b[43m.\u001b[49m\u001b[43mget_loc\u001b[49m\u001b[43m(\u001b[49m\u001b[43mcasted_key\u001b[49m\u001b[43m)\u001b[49m\n\u001b[32m   3813\u001b[39m \u001b[38;5;28;01mexcept\u001b[39;00m \u001b[38;5;167;01mKeyError\u001b[39;00m \u001b[38;5;28;01mas\u001b[39;00m err:\n",
      "\u001b[36mFile \u001b[39m\u001b[32mpandas/_libs/index.pyx:167\u001b[39m, in \u001b[36mpandas._libs.index.IndexEngine.get_loc\u001b[39m\u001b[34m()\u001b[39m\n",
      "\u001b[36mFile \u001b[39m\u001b[32mpandas/_libs/index.pyx:196\u001b[39m, in \u001b[36mpandas._libs.index.IndexEngine.get_loc\u001b[39m\u001b[34m()\u001b[39m\n",
      "\u001b[36mFile \u001b[39m\u001b[32mpandas/_libs/hashtable_class_helper.pxi:7088\u001b[39m, in \u001b[36mpandas._libs.hashtable.PyObjectHashTable.get_item\u001b[39m\u001b[34m()\u001b[39m\n",
      "\u001b[36mFile \u001b[39m\u001b[32mpandas/_libs/hashtable_class_helper.pxi:7096\u001b[39m, in \u001b[36mpandas._libs.hashtable.PyObjectHashTable.get_item\u001b[39m\u001b[34m()\u001b[39m\n",
      "\u001b[31mKeyError\u001b[39m: 'OrderDate'",
      "\nThe above exception was the direct cause of the following exception:\n",
      "\u001b[31mKeyError\u001b[39m                                  Traceback (most recent call last)",
      "\u001b[36mCell\u001b[39m\u001b[36m \u001b[39m\u001b[32mIn[18]\u001b[39m\u001b[32m, line 2\u001b[39m\n\u001b[32m      1\u001b[39m \u001b[38;5;66;03m# 1. OrderDate가 datetime 형식인지 확인\u001b[39;00m\n\u001b[32m----> \u001b[39m\u001b[32m2\u001b[39m df[\u001b[33m'\u001b[39m\u001b[33mOrderDate\u001b[39m\u001b[33m'\u001b[39m] = pd.to_datetime(\u001b[43mdf\u001b[49m\u001b[43m[\u001b[49m\u001b[33;43m'\u001b[39;49m\u001b[33;43mOrderDate\u001b[39;49m\u001b[33;43m'\u001b[39;49m\u001b[43m]\u001b[49m)\n\u001b[32m      4\u001b[39m \u001b[38;5;66;03m# 2. OrderDate를 인덱스로 설정\u001b[39;00m\n\u001b[32m      5\u001b[39m df = df.set_index(\u001b[33m'\u001b[39m\u001b[33mOrderDate\u001b[39m\u001b[33m'\u001b[39m)\n",
      "\u001b[36mFile \u001b[39m\u001b[32mc:\\ProgramData\\miniforge3\\envs\\helloworld\\Lib\\site-packages\\pandas\\core\\frame.py:4113\u001b[39m, in \u001b[36mDataFrame.__getitem__\u001b[39m\u001b[34m(self, key)\u001b[39m\n\u001b[32m   4111\u001b[39m \u001b[38;5;28;01mif\u001b[39;00m \u001b[38;5;28mself\u001b[39m.columns.nlevels > \u001b[32m1\u001b[39m:\n\u001b[32m   4112\u001b[39m     \u001b[38;5;28;01mreturn\u001b[39;00m \u001b[38;5;28mself\u001b[39m._getitem_multilevel(key)\n\u001b[32m-> \u001b[39m\u001b[32m4113\u001b[39m indexer = \u001b[38;5;28;43mself\u001b[39;49m\u001b[43m.\u001b[49m\u001b[43mcolumns\u001b[49m\u001b[43m.\u001b[49m\u001b[43mget_loc\u001b[49m\u001b[43m(\u001b[49m\u001b[43mkey\u001b[49m\u001b[43m)\u001b[49m\n\u001b[32m   4114\u001b[39m \u001b[38;5;28;01mif\u001b[39;00m is_integer(indexer):\n\u001b[32m   4115\u001b[39m     indexer = [indexer]\n",
      "\u001b[36mFile \u001b[39m\u001b[32mc:\\ProgramData\\miniforge3\\envs\\helloworld\\Lib\\site-packages\\pandas\\core\\indexes\\base.py:3819\u001b[39m, in \u001b[36mIndex.get_loc\u001b[39m\u001b[34m(self, key)\u001b[39m\n\u001b[32m   3814\u001b[39m     \u001b[38;5;28;01mif\u001b[39;00m \u001b[38;5;28misinstance\u001b[39m(casted_key, \u001b[38;5;28mslice\u001b[39m) \u001b[38;5;129;01mor\u001b[39;00m (\n\u001b[32m   3815\u001b[39m         \u001b[38;5;28misinstance\u001b[39m(casted_key, abc.Iterable)\n\u001b[32m   3816\u001b[39m         \u001b[38;5;129;01mand\u001b[39;00m \u001b[38;5;28many\u001b[39m(\u001b[38;5;28misinstance\u001b[39m(x, \u001b[38;5;28mslice\u001b[39m) \u001b[38;5;28;01mfor\u001b[39;00m x \u001b[38;5;129;01min\u001b[39;00m casted_key)\n\u001b[32m   3817\u001b[39m     ):\n\u001b[32m   3818\u001b[39m         \u001b[38;5;28;01mraise\u001b[39;00m InvalidIndexError(key)\n\u001b[32m-> \u001b[39m\u001b[32m3819\u001b[39m     \u001b[38;5;28;01mraise\u001b[39;00m \u001b[38;5;167;01mKeyError\u001b[39;00m(key) \u001b[38;5;28;01mfrom\u001b[39;00m\u001b[38;5;250m \u001b[39m\u001b[34;01merr\u001b[39;00m\n\u001b[32m   3820\u001b[39m \u001b[38;5;28;01mexcept\u001b[39;00m \u001b[38;5;167;01mTypeError\u001b[39;00m:\n\u001b[32m   3821\u001b[39m     \u001b[38;5;66;03m# If we have a listlike key, _check_indexing_error will raise\u001b[39;00m\n\u001b[32m   3822\u001b[39m     \u001b[38;5;66;03m#  InvalidIndexError. Otherwise we fall through and re-raise\u001b[39;00m\n\u001b[32m   3823\u001b[39m     \u001b[38;5;66;03m#  the TypeError.\u001b[39;00m\n\u001b[32m   3824\u001b[39m     \u001b[38;5;28mself\u001b[39m._check_indexing_error(key)\n",
      "\u001b[31mKeyError\u001b[39m: 'OrderDate'"
     ]
    }
   ],
   "source": [
    "# 1. OrderDate가 datetime 형식인지 확인\n",
    "df['OrderDate'] = pd.to_datetime(df['OrderDate'])\n",
    "\n",
    "# 2. OrderDate를 인덱스로 설정\n",
    "df = df.set_index('OrderDate')\n",
    "\n",
    "# 3. 월별 총 매출액 집계 ('TotalRevenue'가 매출액 열)\n",
    "monthly_revenue = df['TotalRevenue'].resample('M').sum()\n",
    "\n",
    "# 결과 확인\n",
    "print(monthly_revenue)\n"
   ]
  },
  {
   "cell_type": "markdown",
   "metadata": {},
   "source": [
    "3. 카테고리별로 매출액이 가장 높은 상위 3개의 카테고리를 구하세요.\n"
   ]
  },
  {
   "cell_type": "code",
   "execution_count": 19,
   "metadata": {},
   "outputs": [
    {
     "name": "stdout",
     "output_type": "stream",
     "text": [
      "Category\n",
      "Food           1966000\n",
      "Electronics    1746000\n",
      "Beauty         1493000\n",
      "Name: TotalRevenue, dtype: int64\n"
     ]
    }
   ],
   "source": [
    "# 카테고리별 매출액 합계 구하기\n",
    "category_revenue = df.groupby('Category')['TotalRevenue'].sum()\n",
    "\n",
    "# 매출액 기준 내림차순 정렬 후 상위 3개 추출\n",
    "top3_categories = category_revenue.sort_values(ascending=False).head(3)\n",
    "\n",
    "print(top3_categories)"
   ]
  },
  {
   "cell_type": "markdown",
   "metadata": {},
   "source": [
    "4. 국가별 총 매출액을 계산하고, 매출액이 가장 높은 5개 국가를 출력하세요."
   ]
  },
  {
   "cell_type": "code",
   "execution_count": 20,
   "metadata": {},
   "outputs": [
    {
     "name": "stdout",
     "output_type": "stream",
     "text": [
      "Country\n",
      "미국      2238000\n",
      "독일      1973000\n",
      "중국      1766000\n",
      "일본      1523000\n",
      "대한민국    1419000\n",
      "Name: TotalRevenue, dtype: int64\n"
     ]
    }
   ],
   "source": [
    "# 1. 국가별 매출액 합계 계산\n",
    "country_revenue = df.groupby('Country')['TotalRevenue'].sum()\n",
    "\n",
    "# 2. 매출액으로 내림차순 정렬 후 상위 5개 추출\n",
    "top5_countries = country_revenue.sort_values(ascending=False).head(5)\n",
    "\n",
    "print(top5_countries)"
   ]
  },
  {
   "cell_type": "code",
   "execution_count": 21,
   "metadata": {},
   "outputs": [
    {
     "name": "stdout",
     "output_type": "stream",
     "text": [
      "  Country  TotalRevenue\n",
      "2      미국       2238000\n",
      "1      독일       1973000\n",
      "4      중국       1766000\n",
      "3      일본       1523000\n",
      "0    대한민국       1419000\n"
     ]
    }
   ],
   "source": [
    "top5_countries_df = (\n",
    "    df.groupby('Country', as_index=False)['TotalRevenue'].sum()\n",
    "      .sort_values('TotalRevenue', ascending=False)\n",
    "      .head(5)\n",
    ")\n",
    "print(top5_countries_df)"
   ]
  },
  {
   "cell_type": "markdown",
   "metadata": {},
   "source": [
    "3. **고객 분석**\n",
    "    1. 고객별로 총 매출액을 계산한 후, 상위 5명의 고객을 출력하세요.\n",
    "    2. 주문 횟수가 가장 많은 상위 5명의 고객을 출력하세요.\n",
    "    3. **연령대**에 따라 고객을 분류하고, 각 연령대별로 가장 많이 구매한 상품의 카테고리를 구하세요.\n",
    "        - 힌트: 고객의 연령대는 따로 제공되지 않으므로, 가정 데이터를 추가해 임의로 분류할 수 있습니다."
   ]
  },
  {
   "cell_type": "code",
   "execution_count": 24,
   "metadata": {},
   "outputs": [
    {
     "name": "stdout",
     "output_type": "stream",
     "text": [
      "    CustomerID  TotalRevenue\n",
      "0         1007        334000\n",
      "33        1354        245000\n",
      "16        1141        241000\n",
      "69        1589        215000\n",
      "74        1632        192000\n"
     ]
    }
   ],
   "source": [
    "top5_customers_df = (\n",
    "    df.groupby('CustomerID', as_index=False)['TotalRevenue'].sum()\n",
    "      .sort_values('TotalRevenue', ascending=False)\n",
    "      .head(5)\n",
    ")\n",
    "print(top5_customers_df)"
   ]
  },
  {
   "cell_type": "code",
   "execution_count": 27,
   "metadata": {},
   "outputs": [
    {
     "name": "stdout",
     "output_type": "stream",
     "text": [
      "[1007, 1141, 1673, 1508, 1421]\n"
     ]
    }
   ],
   "source": [
    "top5_customer_ids = (\n",
    "    df.groupby('CustomerID')\n",
    "      .size()\n",
    "      .sort_values(ascending=False)\n",
    "      .head(5)\n",
    "      .index.tolist()\n",
    ")\n",
    "\n",
    "print(top5_customer_ids)"
   ]
  },
  {
   "cell_type": "code",
   "execution_count": 31,
   "metadata": {},
   "outputs": [
    {
     "name": "stdout",
     "output_type": "stream",
     "text": [
      "                     CustomerID  Birthdate  나이  연령대\n",
      "OrderDate                                          \n",
      "2024-06-10 17:18:00        1071 1980-08-08  44  40대\n",
      "2023-11-18 18:45:00        1526 1967-08-09  57  50대\n",
      "2023-10-15 11:19:00        1252 1973-04-07  51  50대\n",
      "2024-07-19 02:19:00        1670 1970-04-08  54  50대\n",
      "2024-01-20 20:34:00        1838 1992-05-19  32  30대\n"
     ]
    }
   ],
   "source": [
    "import pandas as pd\n",
    "from datetime import datetime\n",
    "\n",
    "\n",
    "# 현재 날짜 (분석 시점 기준)\n",
    "today = pd.to_datetime('2024-10-23')\n",
    "\n",
    "# Birthdate를 datetime으로 변환\n",
    "df['Birthdate'] = pd.to_datetime(df['Birthdate'])\n",
    "\n",
    "# 나이 계산 함수 정의\n",
    "def calculate_age(birthdate, today):\n",
    "    return today.year - birthdate.year - ((today.month, today.day) < (birthdate.month, birthdate.day))\n",
    "\n",
    "# '나이' 컬럼 추가\n",
    "df['나이'] = df['Birthdate'].apply(lambda x: calculate_age(x, today))\n",
    "\n",
    "# 연령대 분류 함수 정의\n",
    "def age_group(age):\n",
    "    if age < 20:\n",
    "        return '10대'\n",
    "    elif age < 30:\n",
    "        return '20대'\n",
    "    elif age < 40:\n",
    "        return '30대'\n",
    "    elif age < 50:\n",
    "        return '40대'\n",
    "    elif age < 60:\n",
    "        return '50대'\n",
    "    else:\n",
    "        return '60대 이상'\n",
    "\n",
    "# '연령대' 컬럼 추가\n",
    "df['연령대'] = df['나이'].apply(age_group)\n",
    "\n",
    "# 결과 확인 (상위 5개 출력)\n",
    "print(df[['CustomerID', 'Birthdate', '나이', '연령대']].head())\n"
   ]
  },
  {
   "cell_type": "code",
   "execution_count": 33,
   "metadata": {},
   "outputs": [
    {
     "name": "stdout",
     "output_type": "stream",
     "text": [
      "각 연령대별로 가장 많이 구매한 상품의 카테고리\n",
      "      연령대     Category  Quantity\n",
      "0     20대         Food        16\n",
      "1     30대         Food        29\n",
      "2     40대        Books        26\n",
      "3     50대     Clothing        23\n",
      "4  60대 이상  Electronics         3\n"
     ]
    }
   ],
   "source": [
    "# 필요한 라이브러리 불러오기\n",
    "import pandas as pd\n",
    "from datetime import datetime\n",
    "\n",
    "\n",
    "\n",
    "# 현재 날짜 지정\n",
    "today = pd.to_datetime('2024-10-23')\n",
    "\n",
    "# Birthdate를 datetime으로 변환\n",
    "df['Birthdate'] = pd.to_datetime(df['Birthdate'])\n",
    "\n",
    "# 나이 계산 함수\n",
    "def calculate_age(birthdate, today):\n",
    "    return today.year - birthdate.year - ((today.month, today.day) < (birthdate.month, birthdate.day))\n",
    "\n",
    "# '나이' 컬럼 추가\n",
    "df['나이'] = df['Birthdate'].apply(lambda x: calculate_age(x, today))\n",
    "\n",
    "# 연령대 분류 함수\n",
    "def age_group(age):\n",
    "    if age < 20:\n",
    "        return '10대'\n",
    "    elif age < 30:\n",
    "        return '20대'\n",
    "    elif age < 40:\n",
    "        return '30대'\n",
    "    elif age < 50:\n",
    "        return '40대'\n",
    "    elif age < 60:\n",
    "        return '50대'\n",
    "    else:\n",
    "        return '60대 이상'\n",
    "\n",
    "# '연령대' 컬럼 추가\n",
    "df['연령대'] = df['나이'].apply(age_group)\n",
    "\n",
    "# 각 연령대별로 카테고리별 구매수량 집계\n",
    "grouped = df.groupby(['연령대', 'Category'])['Quantity'].sum().reset_index()\n",
    "\n",
    "# 각 연령대별로 가장 많이 구매한 카테고리 찾기\n",
    "idx = grouped.groupby('연령대')['Quantity'].idxmax()\n",
    "most_purchased_categories = grouped.loc[idx].reset_index(drop=True)\n",
    "\n",
    "# 결과 표시\n",
    "print(\"각 연령대별로 가장 많이 구매한 상품의 카테고리\")\n",
    "print(most_purchased_categories[['연령대', 'Category', 'Quantity']])"
   ]
  },
  {
   "cell_type": "code",
   "execution_count": null,
   "metadata": {},
   "outputs": [],
   "source": []
  },
  {
   "cell_type": "markdown",
   "metadata": {},
   "source": [
    "4. **상품 분석**\n",
    "    1. 가장 많이 판매된 상위 5개의 상품을 출력하세요.\n",
    "    2. **카테고리별**로 가장 많이 판매된 상품을 찾아 출력하세요.\n",
    "    3. **평균 구매 수량**이 가장 높은 상위 3개의 상품을 출력하세요."
   ]
  },
  {
   "cell_type": "code",
   "execution_count": 34,
   "metadata": {},
   "outputs": [
    {
     "name": "stdout",
     "output_type": "stream",
     "text": [
      "가장 많이 판매된 상위 5개 상품\n",
      "   Product  Quantity\n",
      "8       셔츠        25\n",
      "5      립스틱        22\n",
      "9       소설        21\n",
      "14     역사책        20\n",
      "24      커피        20\n"
     ]
    }
   ],
   "source": [
    "# 상품별로 구매수량 합산\n",
    "product_sales = df.groupby('Product')['Quantity'].sum().reset_index()\n",
    "\n",
    "# 수량 기준으로 내림차순 정렬 후 상위 5개 추출\n",
    "top5_products = product_sales.sort_values(by='Quantity', ascending=False).head(5)\n",
    "\n",
    "# 결과 출력\n",
    "print(\"가장 많이 판매된 상위 5개 상품\")\n",
    "print(top5_products)"
   ]
  },
  {
   "cell_type": "code",
   "execution_count": 35,
   "metadata": {},
   "outputs": [
    {
     "name": "stdout",
     "output_type": "stream",
     "text": [
      "카테고리별로 가장 많이 판매된 상품\n",
      "      Category Product  Quantity\n",
      "0       Beauty     립스틱        22\n",
      "1        Books      소설        21\n",
      "2     Clothing      셔츠        25\n",
      "3  Electronics     노트북        15\n",
      "4         Food      커피        20\n",
      "5       Sports    요가매트        12\n"
     ]
    }
   ],
   "source": [
    "# 카테고리+상품별로 구매수량 합산\n",
    "cat_prod_sales = df.groupby(['Category', 'Product'])['Quantity'].sum().reset_index()\n",
    "\n",
    "# 각 카테고리별로 수량이 가장 많은 상품 찾기\n",
    "idx = cat_prod_sales.groupby('Category')['Quantity'].idxmax()\n",
    "top_products_by_category = cat_prod_sales.loc[idx].reset_index(drop=True)\n",
    "\n",
    "# 결과 출력\n",
    "print(\"카테고리별로 가장 많이 판매된 상품\")\n",
    "print(top_products_by_category[['Category', 'Product', 'Quantity']])"
   ]
  },
  {
   "cell_type": "code",
   "execution_count": 36,
   "metadata": {},
   "outputs": [
    {
     "name": "stdout",
     "output_type": "stream",
     "text": [
      "평균 구매 수량이 가장 높은 상위 3개 상품\n",
      "   Product  Quantity\n",
      "17    자기계발       5.0\n",
      "20      주스       5.0\n",
      "24      커피       4.0\n"
     ]
    }
   ],
   "source": [
    "# 상품별로 평균 구매 수량 계산\n",
    "avg_quantity = df.groupby('Product')['Quantity'].mean().reset_index()\n",
    "\n",
    "# 평균 구매 수량 기준 내림차순 정렬 후 상위 3개 추출\n",
    "top3_avg_quantity = avg_quantity.sort_values(by='Quantity', ascending=False).head(3)\n",
    "\n",
    "# 결과 출력\n",
    "print(\"평균 구매 수량이 가장 높은 상위 3개 상품\")\n",
    "print(top3_avg_quantity)\n"
   ]
  },
  {
   "cell_type": "markdown",
   "metadata": {},
   "source": [
    "5. **시간 분석**\n",
    "    1. 주문 날짜별로 **주별** 매출액을 계산하고 시각화하세요.\n",
    "    2. 특정 기간(예: 2024년 1월 ~ 2024년 6월) 동안의 매출 추이를 분석하고 시각화하세요.\n",
    "    3. 특정 국가에서 가장 많이 주문한 시간대를 분석하고, 이를 시각화하여 인사이트를 도출하세요."
   ]
  },
  {
   "cell_type": "code",
   "execution_count": null,
   "metadata": {},
   "outputs": [],
   "source": []
  },
  {
   "cell_type": "markdown",
   "metadata": {},
   "source": [
    "6. **추가 분석**\n",
    "    1. 고객의 **재구매율**을 분석하세요.\n",
    "        - 재구매율 = 한 고객이 여러 번 주문한 비율\n",
    "    2. 상품 카테고리별 **할인**을 적용한 판매 데이터를 사용하여 할인율이 높은 카테고리의 매출액을 분석하세요."
   ]
  },
  {
   "cell_type": "code",
   "execution_count": null,
   "metadata": {},
   "outputs": [],
   "source": []
  }
 ],
 "metadata": {
  "kernelspec": {
   "display_name": "helloworld",
   "language": "python",
   "name": "python3"
  },
  "language_info": {
   "codemirror_mode": {
    "name": "ipython",
    "version": 3
   },
   "file_extension": ".py",
   "mimetype": "text/x-python",
   "name": "python",
   "nbconvert_exporter": "python",
   "pygments_lexer": "ipython3",
   "version": "3.12.12"
  }
 },
 "nbformat": 4,
 "nbformat_minor": 2
}
