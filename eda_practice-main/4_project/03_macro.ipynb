{
 "cells": [
  {
   "cell_type": "code",
   "execution_count": null,
   "id": "d834edae",
   "metadata": {},
   "outputs": [],
   "source": [
    "import pyautogui\n",
    "\n",
    "# 마우스 이동\n",
    "pyautogui.moveTo(100, 200)\n",
    "\n",
    "# 마우스 클릭\n",
    "pyautogui.click()\n",
    "\n",
    "# 키보드 입력 \n",
    "pyautogui.typewrite(\"Hello world!\")\n",
    "\n",
    "# 스크린샷 찍고 파일로 저장\n",
    "pyautogui.screenshot(\"screenshot.png\")"
   ]
  },
  {
   "cell_type": "code",
   "execution_count": 1,
   "id": "15015686",
   "metadata": {},
   "outputs": [
    {
     "name": "stdout",
     "output_type": "stream",
     "text": [
      "Collecting pyautogui\n",
      "  Downloading PyAutoGUI-0.9.54.tar.gz (61 kB)\n",
      "  Installing build dependencies: started\n",
      "  Installing build dependencies: finished with status 'done'\n",
      "  Getting requirements to build wheel: started\n",
      "  Getting requirements to build wheel: finished with status 'done'\n",
      "  Preparing metadata (pyproject.toml): started\n",
      "  Preparing metadata (pyproject.toml): finished with status 'done'\n",
      "Collecting pymsgbox (from pyautogui)\n",
      "  Downloading pymsgbox-2.0.1-py3-none-any.whl.metadata (4.4 kB)\n",
      "Collecting pytweening>=1.0.4 (from pyautogui)\n",
      "  Downloading pytweening-1.2.0.tar.gz (171 kB)\n",
      "  Preparing metadata (setup.py): started\n",
      "  Preparing metadata (setup.py): finished with status 'done'\n",
      "Collecting pyscreeze>=0.1.21 (from pyautogui)\n",
      "  Downloading pyscreeze-1.0.1.tar.gz (27 kB)\n",
      "  Installing build dependencies: started\n",
      "  Installing build dependencies: finished with status 'done'\n",
      "  Getting requirements to build wheel: started\n",
      "  Getting requirements to build wheel: finished with status 'done'\n",
      "  Preparing metadata (pyproject.toml): started\n",
      "  Preparing metadata (pyproject.toml): finished with status 'done'\n",
      "Collecting pygetwindow>=0.0.5 (from pyautogui)\n",
      "  Downloading PyGetWindow-0.0.9.tar.gz (9.7 kB)\n",
      "  Preparing metadata (setup.py): started\n",
      "  Preparing metadata (setup.py): finished with status 'done'\n",
      "Collecting mouseinfo (from pyautogui)\n",
      "  Downloading MouseInfo-0.1.3.tar.gz (10 kB)\n",
      "  Preparing metadata (setup.py): started\n",
      "  Preparing metadata (setup.py): finished with status 'done'\n",
      "Collecting pyrect (from pygetwindow>=0.0.5->pyautogui)\n",
      "  Downloading PyRect-0.2.0.tar.gz (17 kB)\n",
      "  Preparing metadata (setup.py): started\n",
      "  Preparing metadata (setup.py): finished with status 'done'\n",
      "Collecting pyperclip (from mouseinfo->pyautogui)\n",
      "  Downloading pyperclip-1.11.0-py3-none-any.whl.metadata (2.4 kB)\n",
      "Downloading pymsgbox-2.0.1-py3-none-any.whl (10.0 kB)\n",
      "Downloading pyperclip-1.11.0-py3-none-any.whl (11 kB)\n",
      "Building wheels for collected packages: pyautogui, pygetwindow, pyscreeze, pytweening, mouseinfo, pyrect\n",
      "  Building wheel for pyautogui (pyproject.toml): started\n",
      "  Building wheel for pyautogui (pyproject.toml): finished with status 'done'\n",
      "  Created wheel for pyautogui: filename=pyautogui-0.9.54-py3-none-any.whl size=37707 sha256=91c4957304a116b3fc68205bedb27029f153c55750de8518476d88711d115cdc\n",
      "  Stored in directory: c:\\users\\wia\\appdata\\local\\pip\\cache\\wheels\\d9\\d6\\47\\04075995b093ecc87c212c9a3dbd34e59456c6fe504d65c3e4\n",
      "  Building wheel for pygetwindow (setup.py): started\n",
      "  Building wheel for pygetwindow (setup.py): finished with status 'done'\n",
      "  Created wheel for pygetwindow: filename=pygetwindow-0.0.9-py3-none-any.whl size=11137 sha256=61c5cf8781fd81ec84d670f13c21fb6de5423ddcc54792b2e9a143cd47af1579\n",
      "  Stored in directory: c:\\users\\wia\\appdata\\local\\pip\\cache\\wheels\\b3\\39\\81\\34dd7a2eca5f885f1f6e2796761970daf66a2d98ac1904f5f4\n",
      "  Building wheel for pyscreeze (pyproject.toml): started\n",
      "  Building wheel for pyscreeze (pyproject.toml): finished with status 'done'\n",
      "  Created wheel for pyscreeze: filename=pyscreeze-1.0.1-py3-none-any.whl size=14481 sha256=fc125197f0ad0628dc7f733a0d07c628ae90c5176b3b8fa5e38fc8ccee6ae759\n",
      "  Stored in directory: c:\\users\\wia\\appdata\\local\\pip\\cache\\wheels\\cd\\3a\\c2\\7f2839239a069aa3c9564f6777cbb29d733720ef673f104f0d\n",
      "  Building wheel for pytweening (setup.py): started\n",
      "  Building wheel for pytweening (setup.py): finished with status 'done'\n",
      "  Created wheel for pytweening: filename=pytweening-1.2.0-py3-none-any.whl size=8135 sha256=350bfaaa1dabcb2772602670e5e611d8c2d0b2a4c4930d16b93daae609c0faa6\n",
      "  Stored in directory: c:\\users\\wia\\appdata\\local\\pip\\cache\\wheels\\23\\d5\\13\\4e9bdadbfe3c78e47c675e7410c0eed2fbb63c5ea6cf1b40e7\n",
      "  Building wheel for mouseinfo (setup.py): started\n",
      "  Building wheel for mouseinfo (setup.py): finished with status 'done'\n",
      "  Created wheel for mouseinfo: filename=mouseinfo-0.1.3-py3-none-any.whl size=10967 sha256=fc0af893340d3d7eb4253e30e684053e7946af74b7d9f2440ff1d181e0339557\n",
      "  Stored in directory: c:\\users\\wia\\appdata\\local\\pip\\cache\\wheels\\b1\\9b\\f3\\08650eb7f00af32f07789f3c6a101e0d7fc762b9891ae843bb\n",
      "  Building wheel for pyrect (setup.py): started\n",
      "  Building wheel for pyrect (setup.py): finished with status 'done'\n",
      "  Created wheel for pyrect: filename=pyrect-0.2.0-py2.py3-none-any.whl size=11306 sha256=6208540cf6d368eafc7052f9e5d5200aa44a96ec43a3b38bbfbb7c0ea7fc4cf2\n",
      "  Stored in directory: c:\\users\\wia\\appdata\\local\\pip\\cache\\wheels\\0b\\1e\\d7\\0c74bd8f60b39c14d84e307398786002aa7ddc905927cc03c5\n",
      "Successfully built pyautogui pygetwindow pyscreeze pytweening mouseinfo pyrect\n",
      "Installing collected packages: pytweening, pyscreeze, pyrect, pyperclip, pymsgbox, pygetwindow, mouseinfo, pyautogui\n",
      "\n",
      "   ---------------------------------------- 0/8 [pytweening]\n",
      "   ---------------------------------------- 0/8 [pytweening]\n",
      "   ----- ---------------------------------- 1/8 [pyscreeze]\n",
      "   ---------- ----------------------------- 2/8 [pyrect]\n",
      "   --------------- ------------------------ 3/8 [pyperclip]\n",
      "   --------------- ------------------------ 3/8 [pyperclip]\n",
      "   -------------------- ------------------- 4/8 [pymsgbox]\n",
      "   ------------------------- -------------- 5/8 [pygetwindow]\n",
      "   ------------------------------ --------- 6/8 [mouseinfo]\n",
      "   ------------------------------ --------- 6/8 [mouseinfo]\n",
      "   ----------------------------------- ---- 7/8 [pyautogui]\n",
      "   ----------------------------------- ---- 7/8 [pyautogui]\n",
      "   ----------------------------------- ---- 7/8 [pyautogui]\n",
      "   ---------------------------------------- 8/8 [pyautogui]\n",
      "\n",
      "Successfully installed mouseinfo-0.1.3 pyautogui-0.9.54 pygetwindow-0.0.9 pymsgbox-2.0.1 pyperclip-1.11.0 pyrect-0.2.0 pyscreeze-1.0.1 pytweening-1.2.0\n",
      "Note: you may need to restart the kernel to use updated packages.\n"
     ]
    },
    {
     "name": "stderr",
     "output_type": "stream",
     "text": [
      "  DEPRECATION: Building 'pygetwindow' using the legacy setup.py bdist_wheel mechanism, which will be removed in a future version. pip 25.3 will enforce this behaviour change. A possible replacement is to use the standardized build interface by setting the `--use-pep517` option, (possibly combined with `--no-build-isolation`), or adding a `pyproject.toml` file to the source tree of 'pygetwindow'. Discussion can be found at https://github.com/pypa/pip/issues/6334\n",
      "  DEPRECATION: Building 'pytweening' using the legacy setup.py bdist_wheel mechanism, which will be removed in a future version. pip 25.3 will enforce this behaviour change. A possible replacement is to use the standardized build interface by setting the `--use-pep517` option, (possibly combined with `--no-build-isolation`), or adding a `pyproject.toml` file to the source tree of 'pytweening'. Discussion can be found at https://github.com/pypa/pip/issues/6334\n",
      "  DEPRECATION: Building 'mouseinfo' using the legacy setup.py bdist_wheel mechanism, which will be removed in a future version. pip 25.3 will enforce this behaviour change. A possible replacement is to use the standardized build interface by setting the `--use-pep517` option, (possibly combined with `--no-build-isolation`), or adding a `pyproject.toml` file to the source tree of 'mouseinfo'. Discussion can be found at https://github.com/pypa/pip/issues/6334\n",
      "  DEPRECATION: Building 'pyrect' using the legacy setup.py bdist_wheel mechanism, which will be removed in a future version. pip 25.3 will enforce this behaviour change. A possible replacement is to use the standardized build interface by setting the `--use-pep517` option, (possibly combined with `--no-build-isolation`), or adding a `pyproject.toml` file to the source tree of 'pyrect'. Discussion can be found at https://github.com/pypa/pip/issues/6334\n"
     ]
    }
   ],
   "source": [
    "%pip install pyautogui"
   ]
  },
  {
   "cell_type": "code",
   "execution_count": 2,
   "id": "3487c6af",
   "metadata": {},
   "outputs": [
    {
     "name": "stdout",
     "output_type": "stream",
     "text": [
      "X: 371, Y: 6602\n",
      "프로그램을 종료합니다.\n"
     ]
    }
   ],
   "source": [
    "import pyautogui\n",
    "import time\n",
    "\n",
    "try:\n",
    "    while True:\n",
    "        x, y = pyautogui.position()      # 현재 마우스 좌표 가져오기\n",
    "        print(f\"X: {x}, Y: {y}\", end='\\r') # 좌표를 실시간으로 출력 (커서 안 깜빡이게)\n",
    "        time.sleep(0.1)                   # 0.1초마다 출력 (속도 조절 가능)\n",
    "except KeyboardInterrupt:\n",
    "    print(\"\\n프로그램을 종료합니다.\")"
   ]
  },
  {
   "cell_type": "code",
   "execution_count": null,
   "id": "1ff97efe",
   "metadata": {},
   "outputs": [
    {
     "name": "stdout",
     "output_type": "stream",
     "text": [
      "3초 뒤에 숫자 입력을 시작합니다. 입력창을 미리 클릭하세요.\n"
     ]
    }
   ],
   "source": [
    "import pyautogui\n",
    "import time\n",
    "\n",
    "# 작업 시작 전 3초 대기 (사용자가 입력창을 미리 선택할 수 있게)\n",
    "print(\"3초 뒤에 숫자 입력을 시작합니다. 입력창을 미리 클릭하세요.\")\n",
    "time.sleep(1)  # 0초 기다리기\n",
    "\n",
    "for i in range(1, 11):\n",
    "    pyautogui.typewrite(str(i))  # 숫자 i를 문자열 형태로 입력\n",
    "    pyautogui.press('enter')     # 엔터키 입력 (필요 없으면 삭제 가능)\n",
    "    time.sleep(0.3)              # 입력 간 딜레이 (0.3초)"
   ]
  },
  {
   "cell_type": "code",
   "execution_count": null,
   "id": "48c470e4",
   "metadata": {},
   "outputs": [],
   "source": [
    "import pyautogui\n",
    "import time\n",
    "\n",
    "# 각 입력 필드 및 버튼의 (x, y) 좌표를 직접 확인해서 입력하세요.\n",
    "START_YEAR_POS = (100, 200)     # 시작년도 박스 좌표\n",
    "START_MONTH_POS = (100, 250)    # 시작월 박스 좌표\n",
    "END_YEAR_POS = (200, 200)       # 종료년도 박스 좌표\n",
    "END_MONTH_POS = (200, 250)      # 종료월 박스 좌표\n",
    "SEARCH_BTN_POS = (300, 400)     # 검색 버튼 좌표\n",
    "EXCEL_DOWNLOAD_POS = (350, 500) # 엑셀파일 다운로드 버튼 좌표\n",
    "\n",
    "def macro():\n",
    "    print(\"3초 뒤에 매크로 실행 시작합니다. 창을 미리 열어두세요.\")\n",
    "    time.sleep(3)\n",
    "\n",
    "    # 1. 시작년도 클릭 -> 입력(2023) -> 엔터\n",
    "    pyautogui.click(START_YEAR_POS)   #클릭\n",
    "    pyautogui.typewrite('2023')      #키보드입력\n",
    "    pyautogui.press('enter')\n",
    "    time.sleep(0.2)\n",
    "\n",
    "    # 2. 시작월 클릭 -> 입력(01) -> 엔터\n",
    "    pyautogui.click(START_MONTH_POS)\n",
    "    pyautogui.typewrite('01')\n",
    "    pyautogui.press('enter')\n",
    "    time.sleep(0.2)\n",
    "\n",
    "    # 3. 종료년도 클릭 -> 입력(2025) -> 엔터\n",
    "    pyautogui.click(END_YEAR_POS)\n",
    "    pyautogui.typewrite('2025')\n",
    "    pyautogui.press('enter')\n",
    "    time.sleep(0.2)\n",
    "\n",
    "    # 4. 종료월 클릭 -> 입력(06) -> 엔터\n",
    "    pyautogui.click(END_MONTH_POS)\n",
    "    pyautogui.typewrite('06')\n",
    "    pyautogui.press('enter')\n",
    "    time.sleep(0.2)\n",
    "\n",
    "    # 5. 검색버튼 클릭 -> 기다리기(5초)\n",
    "    pyautogui.click(SEARCH_BTN_POS)\n",
    "    time.sleep(5)\n",
    "\n",
    "    # 6. 엑셀 다운로드 버튼 클릭 -> 기다리기(1초) -> 엔터\n",
    "    pyautogui.click(EXCEL_DOWNLOAD_POS)\n",
    "    time.sleep(1)\n",
    "    pyautogui.press('enter')\n",
    "    print(\"매크로 작업이 완료되었습니다.\")\n",
    "\n",
    "if __name__ == \"__main__\":\n",
    "    macro()\n"
   ]
  },
  {
   "cell_type": "code",
   "execution_count": null,
   "id": "56c73ad8",
   "metadata": {},
   "outputs": [],
   "source": []
  }
 ],
 "metadata": {
  "kernelspec": {
   "display_name": "helloworld",
   "language": "python",
   "name": "python3"
  },
  "language_info": {
   "codemirror_mode": {
    "name": "ipython",
    "version": 3
   },
   "file_extension": ".py",
   "mimetype": "text/x-python",
   "name": "python",
   "nbconvert_exporter": "python",
   "pygments_lexer": "ipython3",
   "version": "3.12.12"
  }
 },
 "nbformat": 4,
 "nbformat_minor": 5
}
