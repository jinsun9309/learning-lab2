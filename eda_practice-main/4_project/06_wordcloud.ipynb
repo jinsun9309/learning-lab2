{
 "cells": [
  {
   "cell_type": "code",
   "execution_count": null,
   "id": "b3fe4321",
   "metadata": {},
   "outputs": [],
   "source": [
    "%pip install requests beautifulsoup4 wordcloud matplotlib konlpy\n"
   ]
  },
  {
   "cell_type": "code",
   "execution_count": null,
   "id": "e6a18f92",
   "metadata": {},
   "outputs": [],
   "source": [
    "import requests\n",
    "from bs4 import BeautifulSoup\n",
    "from konlpy.tag import Okt\n",
    "from collections import Counter\n",
    "from wordcloud import WordCloud\n",
    "import matplotlib.pyplot as plt\n",
    "\n",
    "# #1 뉴스 크롤링\n",
    "url = \"https://news.naver.com/main/list.naver?sid1=105\"\n",
    "res = requests.get(url)\n",
    "soup = BeautifulSoup(res.text, \"html.parser\")\n",
    "titles = [a.get_text(strip=True) for a in soup.select('.type06_headline dt a') if a.get_text(strip=True)]\n",
    "\n",
    "# #2 키워드 추출\n",
    "okt = Okt()\n",
    "text = ' '.join(titles)\n",
    "nouns = okt.nouns(text)\n",
    "word_counts = Counter(nouns)\n",
    "\n",
    "# #3 워드클라우드\n",
    "wc = WordCloud(font_path='NanumGothic.ttf', background_color='white', width=800, height=600)\n",
    "wc_img = wc.generate_from_frequencies(word_counts)\n",
    "\n",
    "plt.figure(figsize=(10,7))\n",
    "plt.imshow(wc_img, interpolation='bilinear')\n",
    "plt.axis('off')\n",
    "plt.show()\n"
   ]
  }
 ],
 "metadata": {
  "kernelspec": {
   "display_name": "helloworld",
   "language": "python",
   "name": "python3"
  },
  "language_info": {
   "codemirror_mode": {
    "name": "ipython",
    "version": 3
   },
   "file_extension": ".py",
   "mimetype": "text/x-python",
   "name": "python",
   "nbconvert_exporter": "python",
   "pygments_lexer": "ipython3",
   "version": "3.12.12"
  }
 },
 "nbformat": 4,
 "nbformat_minor": 5
}
