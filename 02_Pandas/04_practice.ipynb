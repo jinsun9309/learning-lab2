{
 "cells": [
  {
   "cell_type": "markdown",
   "id": "50f0e136",
   "metadata": {},
   "source": [
    "# Pandas 연습 문제 1\n",
    "---\n",
    "### 다음의 데이터를 이용하여 실습 문제를 해결하세요.\n",
    "| Name | Age | City | Salary |\n",
    "| --- | --- | --- | --- |\n",
    "| Alice | 25 | New York | 70000 |\n",
    "| Bob | 30 | Los Angeles | 80000 |\n",
    "| Charlie | 35 | Chicago | 120000 |\n",
    "| David | 40 | Houston | 90000 |\n",
    "| Eve | 28 | San Francisco | 75000 |\n"
   ]
  },
  {
   "cell_type": "markdown",
   "id": "34e20706",
   "metadata": {},
   "source": [
    "**문제1. DataFrame 객체 생성**\n",
    "- 위의 데이터를 사용하여 DataFrame객체를 생성하세요."
   ]
  },
  {
   "cell_type": "code",
   "execution_count": 1,
   "id": "29552084",
   "metadata": {},
   "outputs": [
    {
     "name": "stdout",
     "output_type": "stream",
     "text": [
      "      Name  Age           City  Salary\n",
      "0    Alice   25       New York   70000\n",
      "1      Bob   30    Los Angeles   80000\n",
      "2  Charlie   35        Chicago  120000\n",
      "3    David   40        Houston   90000\n",
      "4      Eve   28  San Francisco   75000\n"
     ]
    }
   ],
   "source": [
    "import pandas as pd\n",
    "\n",
    "# 예시 데이터 생성\n",
    "data = {\n",
    "    'Name': ['Alice', 'Bob', 'Charlie', 'David', 'Eve'],\n",
    "    'Age': [25, 30, 35, 40, 28],\n",
    "    'City': ['New York', 'Los Angeles', 'Chicago', 'Houston', 'San Francisco'],\n",
    "    'Salary': [70000, 80000, 120000, 90000, 75000]\n",
    "}\n",
    "\n",
    "df = pd.DataFrame(data)\n",
    "print(df)"
   ]
  },
  {
   "cell_type": "markdown",
   "id": "166f9032",
   "metadata": {},
   "source": [
    "**문제2. 열과 행 선택**\n",
    "- `Name`과 `City` 열을 선택하여 출력하세요.\n",
    "- 나이가 30 이상인 행을 선택하여 출력하세요."
   ]
  },
  {
   "cell_type": "code",
   "execution_count": 5,
   "id": "8bafa030",
   "metadata": {},
   "outputs": [
    {
     "ename": "AttributeError",
     "evalue": "'tuple' object has no attribute 'DataFrame'",
     "output_type": "error",
     "traceback": [
      "\u001b[31m---------------------------------------------------------------------------\u001b[39m",
      "\u001b[31mAttributeError\u001b[39m                            Traceback (most recent call last)",
      "\u001b[36mCell\u001b[39m\u001b[36m \u001b[39m\u001b[32mIn[5]\u001b[39m\u001b[32m, line 2\u001b[39m\n\u001b[32m      1\u001b[39m \u001b[38;5;66;03m# Name과 City 열 선택\u001b[39;00m\n\u001b[32m----> \u001b[39m\u001b[32m2\u001b[39m \u001b[43mdf\u001b[49m\u001b[43m.\u001b[49m\u001b[43mDataFrame\u001b[49m = \u001b[33m'\u001b[39m\u001b[33mName\u001b[39m\u001b[33m'\u001b[39m, \u001b[33m'\u001b[39m\u001b[33mCity\u001b[39m\u001b[33m'\u001b[39m\n\u001b[32m      3\u001b[39m df\n",
      "\u001b[31mAttributeError\u001b[39m: 'tuple' object has no attribute 'DataFrame'"
     ]
    }
   ],
   "source": [
    "# Name과 City 열 선택\n",
    "df.DataFrame = 'Name', 'City'\n",
    "df\n"
   ]
  },
  {
   "cell_type": "code",
   "execution_count": null,
   "id": "4d991621",
   "metadata": {},
   "outputs": [],
   "source": [
    "# 나이가 30 이상인 행 선택"
   ]
  },
  {
   "cell_type": "markdown",
   "id": "78b04480",
   "metadata": {},
   "source": [
    "**문제 3: 행과 열 추가**\n",
    "\n",
    "- `Country` 열을 추가하고, 모두 'USA'로 설정하세요.\n",
    "- 새로운 행을 추가하세요. (Name: Frank, Age: 33, City: Seattle, Salary: 85000)"
   ]
  },
  {
   "cell_type": "code",
   "execution_count": null,
   "id": "68dfd84d",
   "metadata": {},
   "outputs": [],
   "source": [
    "# Country 열 추가"
   ]
  },
  {
   "cell_type": "code",
   "execution_count": null,
   "id": "415bae6a",
   "metadata": {},
   "outputs": [],
   "source": [
    "# 새로운 행 추가"
   ]
  },
  {
   "cell_type": "markdown",
   "id": "f9109b7c",
   "metadata": {},
   "source": [
    "**문제 4: 데이터 삭제**\n",
    "\n",
    "- `Country` 열을 삭제하세요.\n",
    "- 'David'가 있는 행을 삭제하세요."
   ]
  },
  {
   "cell_type": "code",
   "execution_count": null,
   "id": "c23bb8c2",
   "metadata": {},
   "outputs": [],
   "source": [
    "# Country 열 삭제\n",
    "\n",
    "# 'David'가 있는 행 삭제"
   ]
  },
  {
   "cell_type": "markdown",
   "id": "e41294fc",
   "metadata": {},
   "source": [
    "**문제 5: 데이터 수정**\n",
    "\n",
    "- `Age`가 35 이상인 사람들의 `Salary`를 5% 증가시키세요.\n",
    "- 'Alice'의 `City`를 'Boston'으로 수정하세요."
   ]
  },
  {
   "cell_type": "code",
   "execution_count": null,
   "id": "d8bc42f6",
   "metadata": {},
   "outputs": [],
   "source": [
    "# Age가 35 이상인 사람들의 Salary 5% 증가"
   ]
  },
  {
   "cell_type": "code",
   "execution_count": null,
   "id": "dcb70bac",
   "metadata": {},
   "outputs": [],
   "source": [
    "# 'Alice'의 City를 'Boston'으로 수정"
   ]
  },
  {
   "cell_type": "markdown",
   "id": "8b848715",
   "metadata": {},
   "source": [
    "**문제 6: 데이터 타입 변환**\n",
    "\n",
    "- `Salary`의 데이터 타입을 float로 변환하세요."
   ]
  },
  {
   "cell_type": "code",
   "execution_count": null,
   "id": "f7c5d577",
   "metadata": {},
   "outputs": [],
   "source": []
  }
 ],
 "metadata": {
  "kernelspec": {
   "display_name": "helloworld",
   "language": "python",
   "name": "python3"
  },
  "language_info": {
   "codemirror_mode": {
    "name": "ipython",
    "version": 3
   },
   "file_extension": ".py",
   "mimetype": "text/x-python",
   "name": "python",
   "nbconvert_exporter": "python",
   "pygments_lexer": "ipython3",
   "version": "3.12.12"
  }
 },
 "nbformat": 4,
 "nbformat_minor": 5
}
