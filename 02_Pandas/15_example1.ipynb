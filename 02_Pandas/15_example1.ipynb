{
 "cells": [
  {
   "cell_type": "code",
   "execution_count": null,
   "id": "1c5fccd2",
   "metadata": {},
   "outputs": [],
   "source": []
  },
  {
   "cell_type": "code",
   "execution_count": null,
   "id": "2c3213fd",
   "metadata": {},
   "outputs": [],
   "source": [
    "import pandas as pd\n",
    "\n",
    "# 예시 상품 판매 데이터\n",
    "sales_data = {\n",
    "    'OrderID': [101, 102, 103, 104, 105, 106, 107, 108, 109, 110],\n",
    "    'Product': ['Laptop', 'Mouse', 'Laptop', 'Monitor', 'Mouse', 'Keyboard', 'Laptop', 'Mouse', 'Monitor', 'Keyboard'],\n",
    "    'Quantity': [1, 2, 1, 1, 2, 1, 1, 3, 1, 1],\n",
    "    'Price': [1200, 25, 1200, 300, 25, 100, 1200, 25, 300, 100],\n",
    "    'CustomerID': [1001, 1002, 1001, 1003, 1004, 1002, 1001, 1003, 1005, 1002],\n",
    "    'OrderDate': ['2024-01-05', '2024-01-06', '2024-01-07', '2024-01-10', '2024-01-12', '2024-01-15', '2024-01-18', '2024-01-20', '2024-01-22', '2024-01-25']\n",
    "}\n",
    "df_sales = pd.DataFrame(sales_data)"
   ]
  },
  {
   "cell_type": "markdown",
   "id": "896e0e27",
   "metadata": {},
   "source": [
    "1. 각 고객(`CustomerID`)별로 총 구매 금액을 계산하세요.\n",
    "2. `Laptop`을 구매한 고객들의 평균 구매 금액을 계산하세요.\n",
    "3. 가장 많이 판매된 상품(상품 이름과 판매된 총 수량)을 구하세요.\n",
    "4. `OrderDate`가 2024년 1월 10일 이후인 주문만 필터링하여 출력하세요.\n",
    "5. `Product`별로 판매량과 총 판매 금액을 계산한 후, 이를 `Price` 기준으로 내림차순으로 정렬하여 출력하세요."
   ]
  },
  {
   "cell_type": "code",
   "execution_count": null,
   "id": "f6395f5f",
   "metadata": {},
   "outputs": [],
   "source": [
    "\n",
    "df_sales['Total'] = df_sales['Quantity'] * df_sales['Price']\n",
    "\n",
    "\n",
    "customer_total = df_sales.groupby('CustomerID')['Total'].sum()\n",
    "print(customer_total)"
   ]
  },
  {
   "cell_type": "code",
   "execution_count": null,
   "id": "c373b882",
   "metadata": {},
   "outputs": [],
   "source": []
  }
 ],
 "metadata": {
  "kernelspec": {
   "display_name": "helloworld",
   "language": "python",
   "name": "python3"
  },
  "language_info": {
   "name": "python",
   "version": "3.12.12"
  }
 },
 "nbformat": 4,
 "nbformat_minor": 5
}
